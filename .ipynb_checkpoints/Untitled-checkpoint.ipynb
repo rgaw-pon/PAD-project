{
 "cells": [
  {
   "cell_type": "code",
   "execution_count": 39,
   "id": "a8b1603d-2ccd-4851-b059-8d87d0f5f381",
   "metadata": {
    "scrolled": true
   },
   "outputs": [
    {
     "name": "stdout",
     "output_type": "stream",
     "text": [
      "<class 'pandas.core.frame.DataFrame'>\n",
      "RangeIndex: 200 entries, 0 to 199\n",
      "Data columns (total 10 columns):\n",
      " #   Column      Non-Null Count  Dtype  \n",
      "---  ------      --------------  -----  \n",
      " 0   carat       150 non-null    float64\n",
      " 1   clarity     200 non-null    object \n",
      " 2   color       200 non-null    object \n",
      " 3   cut         200 non-null    object \n",
      " 4   xdimension  197 non-null    float64\n",
      " 5   ydimension  136 non-null    float64\n",
      " 6   zdimension  152 non-null    float64\n",
      " 7   depth       133 non-null    float64\n",
      " 8   table       167 non-null    float64\n",
      " 9   price       196 non-null    float64\n",
      "dtypes: float64(7), object(3)\n",
      "memory usage: 15.8+ KB\n"
     ]
    }
   ],
   "source": [
    "import pandas as pd\n",
    "\n",
    "df = pd.read_csv(\"messy_data.csv\", na_values=[\" \"])\n",
    "\n",
    "#data=data.dropna()\n",
    "df.columns = df.columns.str.replace(' ', '')\n",
    "df.info()\n",
    "#df"
   ]
  },
  {
   "cell_type": "code",
   "execution_count": 31,
   "id": "6e23f1a0-ff6e-4c0e-b41d-a4771ecbe30f",
   "metadata": {},
   "outputs": [
    {
     "data": {
      "text/html": [
       "<div>\n",
       "<style scoped>\n",
       "    .dataframe tbody tr th:only-of-type {\n",
       "        vertical-align: middle;\n",
       "    }\n",
       "\n",
       "    .dataframe tbody tr th {\n",
       "        vertical-align: top;\n",
       "    }\n",
       "\n",
       "    .dataframe thead th {\n",
       "        text-align: right;\n",
       "    }\n",
       "</style>\n",
       "<table border=\"1\" class=\"dataframe\">\n",
       "  <thead>\n",
       "    <tr style=\"text-align: right;\">\n",
       "      <th></th>\n",
       "      <th>carat</th>\n",
       "      <th>clarity</th>\n",
       "      <th>color</th>\n",
       "      <th>cut</th>\n",
       "      <th>xdimension</th>\n",
       "      <th>ydimension</th>\n",
       "      <th>zdimension</th>\n",
       "      <th>depth</th>\n",
       "      <th>table</th>\n",
       "      <th>price</th>\n",
       "      <th>clarity</th>\n",
       "      <th>color</th>\n",
       "      <th>cut</th>\n",
       "    </tr>\n",
       "  </thead>\n",
       "  <tbody>\n",
       "  </tbody>\n",
       "</table>\n",
       "</div>"
      ],
      "text/plain": [
       "Empty DataFrame\n",
       "Columns: [carat, clarity, color, cut, xdimension, ydimension, zdimension, depth, table, price,  clarity,  color,  cut]\n",
       "Index: []"
      ]
     },
     "execution_count": 31,
     "metadata": {},
     "output_type": "execute_result"
    }
   ],
   "source": [
    "df[df.duplicated()==True]"
   ]
  },
  {
   "cell_type": "code",
   "execution_count": 24,
   "id": "3e243712-a420-4d00-b01d-4e4babb114e3",
   "metadata": {
    "scrolled": true
   },
   "outputs": [
    {
     "data": {
      "text/plain": [
       "carat\n",
       "0.50    13\n",
       "0.55    12\n",
       "0.40    10\n",
       "0.45     9\n",
       "0.65     8\n",
       "0.70     8\n",
       "0.75     8\n",
       "1.05     8\n",
       "0.60     7\n",
       "1.30     7\n",
       "0.85     7\n",
       "0.90     7\n",
       "0.95     6\n",
       "1.20     6\n",
       "1.15     5\n",
       "1.40     5\n",
       "1.25     4\n",
       "0.80     4\n",
       "1.10     4\n",
       "0.35     4\n",
       "1.00     2\n",
       "1.35     2\n",
       "1.50     1\n",
       "0.20     1\n",
       "0.30     1\n",
       "1.60     1\n",
       "Name: count, dtype: int64"
      ]
     },
     "execution_count": 24,
     "metadata": {},
     "output_type": "execute_result"
    }
   ],
   "source": [
    "df.value_counts(\"carat\")\n"
   ]
  },
  {
   "cell_type": "code",
   "execution_count": 25,
   "id": "1382821c-8894-4a8e-b916-80e6bfbb89cd",
   "metadata": {},
   "outputs": [
    {
     "data": {
      "text/plain": [
       "clarity\n",
       " i1      26\n",
       " VVS1    23\n",
       " si2     23\n",
       " IF      20\n",
       " VVS2    19\n",
       " si1     18\n",
       " vvs2    18\n",
       " Si2     16\n",
       " Si1     12\n",
       " vvs1    11\n",
       " I1       5\n",
       " SI2      5\n",
       " if       3\n",
       " Vvs1     1\n",
       "Name: count, dtype: int64"
      ]
     },
     "execution_count": 25,
     "metadata": {},
     "output_type": "execute_result"
    }
   ],
   "source": [
    "df[\" clarity\"]= df[\"clarity\"].str.upper()\n",
    "df.value_counts(\"clarity\")"
   ]
  },
  {
   "cell_type": "code",
   "execution_count": 26,
   "id": "ceb18751-b708-484f-99a9-0f09f907a3a8",
   "metadata": {
    "scrolled": true
   },
   "outputs": [
    {
     "data": {
      "text/plain": [
       "color\n",
       " G            36\n",
       " I            33\n",
       " H            30\n",
       " F            24\n",
       " D            13\n",
       " E            13\n",
       " e            12\n",
       " d             9\n",
       " colorless     6\n",
       " f             6\n",
       " j             6\n",
       " g             4\n",
       " h             4\n",
       " Colorless     2\n",
       " J             2\n",
       "Name: count, dtype: int64"
      ]
     },
     "execution_count": 26,
     "metadata": {},
     "output_type": "execute_result"
    }
   ],
   "source": [
    "df[\" color\"]= df[\"color\"].str.upper()\n",
    "df.value_counts(\"color\")"
   ]
  },
  {
   "cell_type": "code",
   "execution_count": 27,
   "id": "5cebdd19-d772-419e-99e5-3e395f590322",
   "metadata": {
    "scrolled": true
   },
   "outputs": [
    {
     "data": {
      "text/plain": [
       "cut\n",
       " Premium      34\n",
       " Good         30\n",
       " fair         24\n",
       " Ideal        23\n",
       " good         21\n",
       " very good    19\n",
       " Fair         12\n",
       " Very good    10\n",
       " Very Good     9\n",
       " ideal         9\n",
       " premium       7\n",
       " very Good     2\n",
       "Name: count, dtype: int64"
      ]
     },
     "execution_count": 27,
     "metadata": {},
     "output_type": "execute_result"
    }
   ],
   "source": [
    "df[\" cut\"]= df[\"cut\"].str.upper()\n",
    "df.value_counts(\"cut\")"
   ]
  },
  {
   "cell_type": "code",
   "execution_count": 40,
   "id": "4d9d5766-5fd9-49be-9a28-eea431af7ede",
   "metadata": {},
   "outputs": [
    {
     "name": "stdout",
     "output_type": "stream",
     "text": [
      "[[11.  1.  1.]\n",
      " [ 1.  3.  1.]\n",
      " [12.  3.  3.]\n",
      " [ 6. 13.  7.]\n",
      " [ 2. 10.  1.]\n",
      " [10.  6. 11.]\n",
      " [ 5.  5.  6.]\n",
      " [ 1.  6.  6.]\n",
      " [11.  4.  3.]\n",
      " [13.  4.  6.]\n",
      " [11. 13.  0.]\n",
      " [11.  3.  8.]\n",
      " [ 8.  3.  0.]\n",
      " [11.  5.  3.]\n",
      " [11.  3.  3.]\n",
      " [ 3.  6.  3.]\n",
      " [ 0.  4.  8.]\n",
      " [ 1.  6.  1.]\n",
      " [ 5.  4.  3.]\n",
      " [12.  9.  9.]\n",
      " [ 4.  5.  0.]\n",
      " [ 5.  6.  2.]\n",
      " [ 1.  4. 11.]\n",
      " [ 1. 11.  4.]\n",
      " [11.  5.  8.]\n",
      " [10. 10. 11.]\n",
      " [ 3.  6.  3.]\n",
      " [11.  2.  3.]\n",
      " [12.  4.  2.]\n",
      " [11.  6.  6.]\n",
      " [10.  3. 11.]\n",
      " [ 8.  6.  3.]\n",
      " [ 5.  6.  0.]\n",
      " [ 1.  6. 11.]\n",
      " [13.  8.  4.]\n",
      " [10.  4.  9.]\n",
      " [12.  8.  1.]\n",
      " [ 3.  6.  5.]\n",
      " [ 4. 12.  1.]\n",
      " [10.  7.  3.]\n",
      " [13.  3.  3.]\n",
      " [ 8.  4.  1.]\n",
      " [ 9.  1.  2.]\n",
      " [ 1.  1.  4.]\n",
      " [ 1.  1.  2.]\n",
      " [ 5.  6.  6.]\n",
      " [ 1. 10.  7.]\n",
      " [ 1.  6.  3.]\n",
      " [13.  1.  7.]\n",
      " [ 1.  5. 11.]\n",
      " [ 6.  5.  0.]\n",
      " [ 8.  4.  4.]\n",
      " [ 6. 13.  2.]\n",
      " [ 8.  4.  2.]\n",
      " [ 2.  4.  7.]\n",
      " [ 1.  4.  8.]\n",
      " [10.  7. 11.]\n",
      " [ 6.  3.  6.]\n",
      " [ 1.  6.  3.]\n",
      " [ 1.  4.  8.]\n",
      " [ 6.  3. 11.]\n",
      " [ 8.  4.  6.]\n",
      " [ 4.  9.  2.]\n",
      " [ 3.  0.  9.]\n",
      " [11. 12.  0.]\n",
      " [ 5.  8.  1.]\n",
      " [ 8.  4.  2.]\n",
      " [ 4.  4.  4.]\n",
      " [ 8.  7.  3.]\n",
      " [ 6.  9.  1.]\n",
      " [ 6.  5. 11.]\n",
      " [12.  3.  2.]\n",
      " [ 4.  4.  6.]\n",
      " [ 6.  2.  3.]\n",
      " [ 6.  5.  6.]\n",
      " [ 6.  9.  2.]\n",
      " [11.  9.  1.]\n",
      " [ 8.  6.  2.]\n",
      " [11.  2.  0.]\n",
      " [13.  6.  1.]\n",
      " [ 1. 10.  3.]\n",
      " [12.  5.  1.]\n",
      " [ 8.  6.  3.]\n",
      " [13.  9.  3.]\n",
      " [ 8.  6.  0.]\n",
      " [ 9.  4.  2.]\n",
      " [10.  5.  2.]\n",
      " [13.  1.  1.]\n",
      " [ 8.  6.  6.]\n",
      " [ 9.  8.  8.]\n",
      " [ 6.  3.  3.]\n",
      " [ 4.  4.  7.]\n",
      " [11.  3.  3.]\n",
      " [ 4.  5.  6.]\n",
      " [ 4.  3.  5.]\n",
      " [ 4.  7. 11.]\n",
      " [ 5.  9.  4.]\n",
      " [ 8.  6.  5.]\n",
      " [10.  4.  2.]\n",
      " [ 2.  6.  7.]\n",
      " [ 6.  8.  3.]\n",
      " [ 3.  6.  6.]\n",
      " [13.  2.  9.]\n",
      " [ 1. 11.  2.]\n",
      " [ 1.  1.  7.]\n",
      " [10.  3. 11.]\n",
      " [ 5. 12.  7.]\n",
      " [ 7. 10.  7.]\n",
      " [ 6.  5.  1.]\n",
      " [10.  3. 11.]\n",
      " [ 8.  7.  1.]\n",
      " [10.  6.  5.]\n",
      " [12.  5.  2.]\n",
      " [10.  0.  4.]\n",
      " [ 5.  5.  0.]\n",
      " [13.  5.  1.]\n",
      " [10.  4.  5.]\n",
      " [ 4.  6.  1.]\n",
      " [ 6.  5.  3.]\n",
      " [ 8.  7.  3.]\n",
      " [ 5. 10.  2.]\n",
      " [ 5.  3.  1.]\n",
      " [ 3.  5. 10.]\n",
      " [ 8.  4.  1.]\n",
      " [13.  3.  7.]\n",
      " [12.  2.  3.]\n",
      " [11.  2.  1.]\n",
      " [11.  5.  6.]\n",
      " [11.  6. 11.]\n",
      " [11.  3. 11.]\n",
      " [12.  4.  3.]\n",
      " [ 8.  6.  6.]\n",
      " [13.  4.  2.]\n",
      " [ 1.  8.  8.]]\n"
     ]
    }
   ],
   "source": [
    "from sklearn.preprocessing import OrdinalEncoder\n",
    "from sklearn.model_selection import train_test_split\n",
    "X=df.drop(columns=\"price\")\n",
    "y=df[\"price\"]\n",
    "enc = OrdinalEncoder()\n",
    "\n",
    "X_train, X_test, y_train, y_test = train_test_split(X, y, test_size=0.33, random_state=1)\n",
    "cat_cols = X_train.select_dtypes(include=\"object\").columns.tolist()\n",
    "\n",
    "X_train=enc.fit_transform(X_train[cat_cols])\n",
    "X_test=enc.fit_transform(X_test[cat_cols])\n",
    "print(X_train)"
   ]
  },
  {
   "cell_type": "code",
   "execution_count": null,
   "id": "bc5eae06-9d98-497f-ac51-57d1af8f9f7f",
   "metadata": {},
   "outputs": [],
   "source": [
    "import matplotlib.pyplot as plt\n",
    "import seaborn as sns\n",
    "\n",
    "fig, ax = plt.subplots(figsize=(10,10))         # Sample figsize in inches\n",
    "sns.heatmap(df.corr(), annot=True, center=0.0, linewidths=.5, ax=ax)"
   ]
  },
  {
   "cell_type": "code",
   "execution_count": null,
   "id": "bd21be10-60f3-41c7-a265-a9049d425c73",
   "metadata": {},
   "outputs": [],
   "source": []
  },
  {
   "cell_type": "code",
   "execution_count": null,
   "id": "b564f7e7-c84e-4be5-8448-a59fa36de0c6",
   "metadata": {},
   "outputs": [],
   "source": []
  },
  {
   "cell_type": "code",
   "execution_count": null,
   "id": "2f456569-6341-4776-8f97-ac3d0c64824f",
   "metadata": {},
   "outputs": [],
   "source": []
  },
  {
   "cell_type": "code",
   "execution_count": null,
   "id": "c6a3fc83-aa4c-4f2c-b385-702600193f87",
   "metadata": {},
   "outputs": [],
   "source": []
  },
  {
   "cell_type": "code",
   "execution_count": null,
   "id": "f4774b64-cc1e-479a-a814-e66417edcdd5",
   "metadata": {},
   "outputs": [],
   "source": []
  }
 ],
 "metadata": {
  "kernelspec": {
   "display_name": "Python 3 (ipykernel)",
   "language": "python",
   "name": "python3"
  },
  "language_info": {
   "codemirror_mode": {
    "name": "ipython",
    "version": 3
   },
   "file_extension": ".py",
   "mimetype": "text/x-python",
   "name": "python",
   "nbconvert_exporter": "python",
   "pygments_lexer": "ipython3",
   "version": "3.11.5"
  }
 },
 "nbformat": 4,
 "nbformat_minor": 5
}
