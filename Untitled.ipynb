{
 "cells": [
  {
   "cell_type": "code",
   "execution_count": 17,
   "id": "a8b1603d-2ccd-4851-b059-8d87d0f5f381",
   "metadata": {},
   "outputs": [
    {
     "name": "stdout",
     "output_type": "stream",
     "text": [
      "<class 'pandas.core.frame.DataFrame'>\n",
      "RangeIndex: 200 entries, 0 to 199\n",
      "Data columns (total 10 columns):\n",
      " #   Column        Non-Null Count  Dtype  \n",
      "---  ------        --------------  -----  \n",
      " 0   carat         150 non-null    float64\n",
      " 1    clarity      200 non-null    object \n",
      " 2    color        200 non-null    object \n",
      " 3    cut          200 non-null    object \n",
      " 4    x dimension  197 non-null    float64\n",
      " 5    y dimension  136 non-null    float64\n",
      " 6    z dimension  152 non-null    float64\n",
      " 7    depth        133 non-null    float64\n",
      " 8    table        167 non-null    float64\n",
      " 9    price        196 non-null    float64\n",
      "dtypes: float64(7), object(3)\n",
      "memory usage: 15.8+ KB\n"
     ]
    }
   ],
   "source": [
    "import pandas as pd\n",
    "\n",
    "data = pd.read_csv(\"messy_data.csv\", na_values=[\" \"])\n",
    "\n",
    "#data=data.dropna()\n",
    "data.info()"
   ]
  },
  {
   "cell_type": "code",
   "execution_count": 18,
   "id": "6e23f1a0-ff6e-4c0e-b41d-a4771ecbe30f",
   "metadata": {},
   "outputs": [
    {
     "data": {
      "text/plain": [
       "0      False\n",
       "1      False\n",
       "2      False\n",
       "3      False\n",
       "4      False\n",
       "       ...  \n",
       "195    False\n",
       "196    False\n",
       "197    False\n",
       "198    False\n",
       "199    False\n",
       "Length: 200, dtype: bool"
      ]
     },
     "execution_count": 18,
     "metadata": {},
     "output_type": "execute_result"
    }
   ],
   "source": [
    "df.duplicated()"
   ]
  },
  {
   "cell_type": "code",
   "execution_count": 19,
   "id": "3e243712-a420-4d00-b01d-4e4babb114e3",
   "metadata": {
    "scrolled": true
   },
   "outputs": [
    {
     "data": {
      "text/plain": [
       "carat\n",
       "0.50    13\n",
       "0.55    12\n",
       "0.40    10\n",
       "0.45     9\n",
       "0.65     8\n",
       "0.70     8\n",
       "0.75     8\n",
       "1.05     8\n",
       "0.60     7\n",
       "1.30     7\n",
       "0.85     7\n",
       "0.90     7\n",
       "0.95     6\n",
       "1.20     6\n",
       "1.15     5\n",
       "1.40     5\n",
       "1.25     4\n",
       "0.80     4\n",
       "1.10     4\n",
       "0.35     4\n",
       "1.00     2\n",
       "1.35     2\n",
       "1.50     1\n",
       "0.20     1\n",
       "0.30     1\n",
       "1.60     1\n",
       "Name: count, dtype: int64"
      ]
     },
     "execution_count": 19,
     "metadata": {},
     "output_type": "execute_result"
    }
   ],
   "source": [
    "df.value_counts(\"carat\")\n"
   ]
  },
  {
   "cell_type": "code",
   "execution_count": 25,
   "id": "1382821c-8894-4a8e-b916-80e6bfbb89cd",
   "metadata": {},
   "outputs": [
    {
     "data": {
      "text/plain": [
       " clarity\n",
       " SI2     44\n",
       " VVS2    37\n",
       " VVS1    35\n",
       " I1      31\n",
       " SI1     30\n",
       " IF      23\n",
       "Name: count, dtype: int64"
      ]
     },
     "execution_count": 25,
     "metadata": {},
     "output_type": "execute_result"
    }
   ],
   "source": [
    "df[\" clarity\"]= df[\" clarity\"].str.upper()\n",
    "df.value_counts(\" clarity\")"
   ]
  },
  {
   "cell_type": "code",
   "execution_count": 26,
   "id": "ceb18751-b708-484f-99a9-0f09f907a3a8",
   "metadata": {},
   "outputs": [
    {
     "data": {
      "text/plain": [
       " color\n",
       " G            40\n",
       " H            34\n",
       " I            33\n",
       " F            30\n",
       " E            25\n",
       " D            22\n",
       " COLORLESS     8\n",
       " J             8\n",
       "Name: count, dtype: int64"
      ]
     },
     "execution_count": 26,
     "metadata": {},
     "output_type": "execute_result"
    }
   ],
   "source": [
    "df[\" color\"]= df[\" color\"].str.upper()\n",
    "df.value_counts(\" color\")"
   ]
  },
  {
   "cell_type": "code",
   "execution_count": 24,
   "id": "5cebdd19-d772-419e-99e5-3e395f590322",
   "metadata": {},
   "outputs": [
    {
     "data": {
      "text/plain": [
       " cut\n",
       " GOOD         51\n",
       " PREMIUM      41\n",
       " VERY GOOD    40\n",
       " FAIR         36\n",
       " IDEAL        32\n",
       "Name: count, dtype: int64"
      ]
     },
     "execution_count": 24,
     "metadata": {},
     "output_type": "execute_result"
    }
   ],
   "source": [
    "df[\" cut\"]= df[\" cut\"].str.upper()\n",
    "df.value_counts(\" cut\")"
   ]
  },
  {
   "cell_type": "code",
   "execution_count": null,
   "id": "bc5eae06-9d98-497f-ac51-57d1af8f9f7f",
   "metadata": {},
   "outputs": [],
   "source": []
  }
 ],
 "metadata": {
  "kernelspec": {
   "display_name": "Python 3 (ipykernel)",
   "language": "python",
   "name": "python3"
  },
  "language_info": {
   "codemirror_mode": {
    "name": "ipython",
    "version": 3
   },
   "file_extension": ".py",
   "mimetype": "text/x-python",
   "name": "python",
   "nbconvert_exporter": "python",
   "pygments_lexer": "ipython3",
   "version": "3.11.5"
  }
 },
 "nbformat": 4,
 "nbformat_minor": 5
}
