{
 "cells": [
  {
   "cell_type": "code",
   "execution_count": 779,
   "id": "a8b1603d-2ccd-4851-b059-8d87d0f5f381",
   "metadata": {
    "scrolled": true
   },
   "outputs": [
    {
     "name": "stdout",
     "output_type": "stream",
     "text": [
      "<class 'pandas.core.frame.DataFrame'>\n",
      "RangeIndex: 200 entries, 0 to 199\n",
      "Data columns (total 10 columns):\n",
      " #   Column      Non-Null Count  Dtype  \n",
      "---  ------      --------------  -----  \n",
      " 0   carat       150 non-null    float64\n",
      " 1   clarity     200 non-null    object \n",
      " 2   color       200 non-null    object \n",
      " 3   cut         200 non-null    object \n",
      " 4   xdimension  197 non-null    float64\n",
      " 5   ydimension  136 non-null    float64\n",
      " 6   zdimension  152 non-null    float64\n",
      " 7   depth       133 non-null    float64\n",
      " 8   table       167 non-null    float64\n",
      " 9   price       196 non-null    float64\n",
      "dtypes: float64(7), object(3)\n",
      "memory usage: 15.8+ KB\n",
      "carat          True\n",
      "clarity       False\n",
      "color         False\n",
      "cut           False\n",
      "xdimension     True\n",
      "ydimension     True\n",
      "zdimension     True\n",
      "depth          True\n",
      "table          True\n",
      "price          True\n",
      "dtype: bool\n",
      "50\n",
      "3\n",
      "64\n",
      "48\n",
      "67\n",
      "33\n",
      "4\n"
     ]
    }
   ],
   "source": [
    "import pandas as pd\n",
    "\n",
    "\n",
    "df = pd.read_csv(\"messy_data.csv\", na_values=[\" \"], skipinitialspace=True)\n",
    "\n",
    "#data=data.dropna()\n",
    "df.columns = df.columns.str.replace(' ', '')\n",
    "df.info()\n",
    "df[df.duplicated()==True]\n",
    "print(df.isna().any())\n",
    "print(df[\"carat\"].isna().sum())\n",
    "print(df[\"xdimension\"].isna().sum())\n",
    "print(df[\"ydimension\"].isna().sum())\n",
    "print(df[\"zdimension\"].isna().sum())\n",
    "print(df[\"depth\"].isna().sum())\n",
    "print(df[\"table\"].isna().sum()) \n",
    "print(df[\"price\"].isna().sum())\n",
    "\n",
    "\n",
    "\n",
    "#df"
   ]
  },
  {
   "cell_type": "code",
   "execution_count": 780,
   "id": "6e23f1a0-ff6e-4c0e-b41d-a4771ecbe30f",
   "metadata": {},
   "outputs": [
    {
     "data": {
      "text/html": [
       "<div>\n",
       "<style scoped>\n",
       "    .dataframe tbody tr th:only-of-type {\n",
       "        vertical-align: middle;\n",
       "    }\n",
       "\n",
       "    .dataframe tbody tr th {\n",
       "        vertical-align: top;\n",
       "    }\n",
       "\n",
       "    .dataframe thead th {\n",
       "        text-align: right;\n",
       "    }\n",
       "</style>\n",
       "<table border=\"1\" class=\"dataframe\">\n",
       "  <thead>\n",
       "    <tr style=\"text-align: right;\">\n",
       "      <th></th>\n",
       "      <th>carat</th>\n",
       "      <th>clarity</th>\n",
       "      <th>color</th>\n",
       "      <th>cut</th>\n",
       "      <th>xdimension</th>\n",
       "      <th>ydimension</th>\n",
       "      <th>zdimension</th>\n",
       "      <th>depth</th>\n",
       "      <th>table</th>\n",
       "      <th>price</th>\n",
       "    </tr>\n",
       "  </thead>\n",
       "  <tbody>\n",
       "  </tbody>\n",
       "</table>\n",
       "</div>"
      ],
      "text/plain": [
       "Empty DataFrame\n",
       "Columns: [carat, clarity, color, cut, xdimension, ydimension, zdimension, depth, table, price]\n",
       "Index: []"
      ]
     },
     "execution_count": 780,
     "metadata": {},
     "output_type": "execute_result"
    }
   ],
   "source": [
    "df[df.duplicated(subset=[\"carat\",\"clarity\",\"color\",\"cut\",\"xdimension\",\"ydimension\",\"zdimension\"])==True]"
   ]
  },
  {
   "cell_type": "code",
   "execution_count": 781,
   "id": "3e243712-a420-4d00-b01d-4e4babb114e3",
   "metadata": {
    "scrolled": true
   },
   "outputs": [
    {
     "data": {
      "text/plain": [
       "carat\n",
       "0.50    13\n",
       "0.55    12\n",
       "0.40    10\n",
       "0.45     9\n",
       "0.65     8\n",
       "0.70     8\n",
       "0.75     8\n",
       "1.05     8\n",
       "0.60     7\n",
       "1.30     7\n",
       "0.85     7\n",
       "0.90     7\n",
       "0.95     6\n",
       "1.20     6\n",
       "1.15     5\n",
       "1.40     5\n",
       "1.25     4\n",
       "0.80     4\n",
       "1.10     4\n",
       "0.35     4\n",
       "1.00     2\n",
       "1.35     2\n",
       "1.50     1\n",
       "0.20     1\n",
       "0.30     1\n",
       "1.60     1\n",
       "Name: count, dtype: int64"
      ]
     },
     "execution_count": 781,
     "metadata": {},
     "output_type": "execute_result"
    }
   ],
   "source": [
    "df.value_counts(\"carat\")\n"
   ]
  },
  {
   "cell_type": "code",
   "execution_count": 782,
   "id": "1382821c-8894-4a8e-b916-80e6bfbb89cd",
   "metadata": {},
   "outputs": [
    {
     "data": {
      "text/plain": [
       "clarity\n",
       "SI2     44\n",
       "VVS2    37\n",
       "VVS1    35\n",
       "I1      31\n",
       "SI1     30\n",
       "IF      23\n",
       "Name: count, dtype: int64"
      ]
     },
     "execution_count": 782,
     "metadata": {},
     "output_type": "execute_result"
    }
   ],
   "source": [
    "df[\"clarity\"]= df[\"clarity\"].str.upper()\n",
    "df.value_counts(\"clarity\")"
   ]
  },
  {
   "cell_type": "code",
   "execution_count": 783,
   "id": "ceb18751-b708-484f-99a9-0f09f907a3a8",
   "metadata": {
    "scrolled": true
   },
   "outputs": [
    {
     "data": {
      "text/plain": [
       "color\n",
       "G            40\n",
       "H            34\n",
       "I            33\n",
       "F            30\n",
       "E            25\n",
       "D            22\n",
       "COLORLESS     8\n",
       "J             8\n",
       "Name: count, dtype: int64"
      ]
     },
     "execution_count": 783,
     "metadata": {},
     "output_type": "execute_result"
    }
   ],
   "source": [
    "df[\"color\"]= df[\"color\"].str.upper()\n",
    "df.value_counts(\"color\") "
   ]
  },
  {
   "cell_type": "code",
   "execution_count": 784,
   "id": "5cebdd19-d772-419e-99e5-3e395f590322",
   "metadata": {
    "scrolled": true
   },
   "outputs": [
    {
     "data": {
      "text/plain": [
       "cut\n",
       "GOOD         51\n",
       "PREMIUM      41\n",
       "VERY GOOD    40\n",
       "FAIR         36\n",
       "IDEAL        32\n",
       "Name: count, dtype: int64"
      ]
     },
     "execution_count": 784,
     "metadata": {},
     "output_type": "execute_result"
    }
   ],
   "source": [
    "df[\"cut\"]= df[\"cut\"].str.upper()\n",
    "df.value_counts(\"cut\")"
   ]
  },
  {
   "cell_type": "code",
   "execution_count": 785,
   "id": "193ef873-0e16-4b50-a9a0-88ba6185ce1c",
   "metadata": {},
   "outputs": [],
   "source": [
    "#mean = df.mean(numeric_only=True)\n",
    "# fill NaN values with the mean of each column\n",
    "#df.fillna(mean, inplace=True)"
   ]
  },
  {
   "cell_type": "code",
   "execution_count": null,
   "id": "039abbb1-215c-483d-8aa4-6cbc2c21abed",
   "metadata": {},
   "outputs": [],
   "source": []
  },
  {
   "cell_type": "code",
   "execution_count": 786,
   "id": "4d9d5766-5fd9-49be-9a28-eea431af7ede",
   "metadata": {},
   "outputs": [],
   "source": [
    "#mode = df.mode(dropna=True)\n",
    "\n",
    "#df = imputer.fit_transform(df)\n",
    "\n",
    "cat_cols = df.select_dtypes(include=\"object\").columns.tolist()\n",
    "num_cols = df.select_dtypes(include=\"float64\").columns.tolist()\n",
    "\n"
   ]
  },
  {
   "cell_type": "code",
   "execution_count": 787,
   "id": "9d9b0c36-b697-4bcc-b69e-16442430a7eb",
   "metadata": {},
   "outputs": [
    {
     "name": "stderr",
     "output_type": "stream",
     "text": [
      "No artists with labels found to put in legend.  Note that artists whose label start with an underscore are ignored when legend() is called with no argument.\n"
     ]
    },
    {
     "data": {
      "image/png": "[encoded data removed]",
      "text/plain": [
       "<Figure size 1000x500 with 3 Axes>"
      ]
     },
     "metadata": {},
     "output_type": "display_data"
    }
   ],
   "source": [
    "import matplotlib.pyplot as plt\n",
    "import seaborn as sns\n",
    "\n",
    "count=0\n",
    "fig, axs = plt.subplots(nrows=1, ncols=3, figsize=(10, 5))\n",
    "temp_df=df[cat_cols].replace(\"COLORLESS\",\"C\").replace(\"IDEAL\", \"IDE.\").replace( \"PREMIUM\", \"PRE.\").replace(\"VERY GOOD\", \"V.GOOD\")\n",
    "#rename(columns={\" COLORLESS\": \"C\", \" IDEAL\": \"IDE.\", \"PREMIUM\": \"PRE.\",\"VERY GOOD\": \"V.GOOD\"})\n",
    "for i in temp_df:\n",
    "\n",
    "    col = int((count%3))    \n",
    "    #print(i)\n",
    "    sns.histplot(data=temp_df[[i]], x=i, ax=axs[col], legend=True, shrink=.8)\n",
    "    sns.despine(fig, top=True, left=True, right=True)\n",
    "    axs[col].tick_params(labelbottom=True)\n",
    "    axs[col].set_title(i)        \n",
    "    count=count+1\n",
    "#plt.setp(axs, \"xticks\", [])\n",
    "#plt.tight_layout()\n",
    "plt.legend()\n",
    "plt.show()"
   ]
  },
  {
   "cell_type": "code",
   "execution_count": 788,
   "id": "4283edd4-e786-40e5-ace8-71495e393418",
   "metadata": {},
   "outputs": [
    {
     "name": "stdout",
     "output_type": "stream",
     "text": [
      "carat          True\n",
      "clarity       False\n",
      "color         False\n",
      "cut           False\n",
      "xdimension     True\n",
      "ydimension     True\n",
      "zdimension     True\n",
      "depth          True\n",
      "table          True\n",
      "price          True\n",
      "dtype: bool\n",
      "carat         50\n",
      "xdimension     3\n",
      "ydimension    64\n",
      "zdimension    48\n",
      "depth         67\n",
      "table         33\n",
      "price          4\n",
      "dtype: int64\n",
      "carat         False\n",
      "clarity       False\n",
      "color         False\n",
      "cut           False\n",
      "xdimension    False\n",
      "ydimension    False\n",
      "zdimension    False\n",
      "depth         False\n",
      "table         False\n",
      "price         False\n",
      "dtype: bool\n"
     ]
    }
   ],
   "source": [
    "from sklearn.preprocessing import OrdinalEncoder\n",
    "from sklearn.model_selection import train_test_split\n",
    "from sklearn.experimental import enable_iterative_imputer\n",
    "from sklearn.impute import IterativeImputer\n",
    "from feature_engine.imputation import CategoricalImputer\n",
    "\n",
    "print(df.isna().any())\n",
    "imp_mean = IterativeImputer(random_state=0)\n",
    "print(df[num_cols].isna().sum())\n",
    "imp_mean.fit(df[num_cols])\n",
    "imp_mean.transform(df[num_cols])\n",
    "df[num_cols]=imp_mean.transform(df[num_cols])\n",
    "print(df.isna().any())\n",
    "\n",
    "df[\"cut\"] = pd.Categorical(df[\"cut\"], categories=[\"FAIR\", \"GOOD\", \"VERY GOOD\", \"PREMIUM\", \"IDEAL\"], ordered=True).codes\n",
    "df[\"color\"] = pd.Categorical(df[\"color\"], categories=[\"COLORLESS\", \"D\", \"E\", \"F\", \"G\", \"H\",\"I\",\"J\"], ordered=True).codes\n",
    "df[\"clarity\"] = pd.Categorical(df[\"clarity\"], categories=[\"IF\",\"VVS1\", \"VVS2\", \"VS1\", \"VS2\", \"SI1\", \"SI2\"], ordered=True).codes\n",
    "\n",
    "#X=df.drop(columns=\"price\")\n",
    "#y=df[\"price\"]\n",
    "#X_train, X_test, y_train, y_test = train_test_split(X, y, test_size=0.33, random_state=1)\n",
    "\n",
    "#print(df)"
   ]
  },
  {
   "cell_type": "code",
   "execution_count": null,
   "id": "bc5eae06-9d98-497f-ac51-57d1af8f9f7f",
   "metadata": {},
   "outputs": [],
   "source": [
    "import matplotlib.pyplot as plt\n",
    "import seaborn as sns\n",
    "\n",
    "fig, ax = plt.subplots(figsize=(10,10))         # Sample figsize in inches\n",
    "sns.heatmap(df.corr(), annot=True, center=0.0, linewidths=.5, ax=ax)"
   ]
  },
  {
   "cell_type": "code",
   "execution_count": null,
   "id": "bd21be10-60f3-41c7-a265-a9049d425c73",
   "metadata": {},
   "outputs": [],
   "source": []
  },
  {
   "cell_type": "code",
   "execution_count": null,
   "id": "b564f7e7-c84e-4be5-8448-a59fa36de0c6",
   "metadata": {},
   "outputs": [],
   "source": []
  },
  {
   "cell_type": "code",
   "execution_count": null,
   "id": "2f456569-6341-4776-8f97-ac3d0c64824f",
   "metadata": {},
   "outputs": [],
   "source": []
  },
  {
   "cell_type": "code",
   "execution_count": null,
   "id": "c6a3fc83-aa4c-4f2c-b385-702600193f87",
   "metadata": {},
   "outputs": [],
   "source": []
  },
  {
   "cell_type": "code",
   "execution_count": null,
   "id": "f4774b64-cc1e-479a-a814-e66417edcdd5",
   "metadata": {},
   "outputs": [],
   "source": []
  },
  {
   "cell_type": "code",
   "execution_count": 789,
   "id": "3bb9a20d-d739-4d5b-9c35-15acd453abae",
   "metadata": {
    "scrolled": true
   },
   "outputs": [
    {
     "data": {
      "image/png": "[encoded data removed]",
      "text/plain": [
       "<Figure size 1000x800 with 10 Axes>"
      ]
     },
     "metadata": {},
     "output_type": "display_data"
    }
   ],
   "source": [
    "import numpy as np\n",
    "import addcopyfighandler\n",
    "count=0\n",
    "fig, axs = plt.subplots(nrows=2, ncols=5, figsize=(10, 8), sharex=True)\n",
    "for i in df.columns:\n",
    "    data = df[i]\n",
    "    row = int((count/5))\n",
    "    col = (count%5)\n",
    "    q1, q3 = np.percentile(data, [25, 75])\n",
    "    whisker_low = q1 - (q3 - q1) * 1.5\n",
    "    whisker_high = q3 + (q3 - q1) * 1.5\n",
    "    sns.violinplot(y=data.array, color='CornflowerBlue', ax=axs[row,col])\n",
    "    outliers = data[(data > whisker_high) | (data < whisker_low)].array\n",
    "    if(len(outliers)>0):\n",
    "        sns.scatterplot(y=outliers, x=0, color='crimson', ax=axs[row,col])\n",
    "        df=df[(df[i] < whisker_high) & (df[i] > whisker_low)]  \n",
    "        #df=df.drop(df[(df[i] < whisker_high) & (df[i] > whisker_low)].index, inplace = True)   \n",
    "    sns.despine(fig, top=True, left=True, right=True)\n",
    "    axs[row,col].set_title(i)        \n",
    "    count=count+1\n",
    "plt.setp(axs, \"xticks\", [])\n",
    "plt.tight_layout()\n",
    "plt.show()"
   ]
  },
  {
   "cell_type": "code",
   "execution_count": 790,
   "id": "bd21be10-60f3-41c7-a265-a9049d425c73",
   "metadata": {},
   "outputs": [
    {
     "data": {
      "text/plain": [
       "<Axes: >"
      ]
     },
     "execution_count": 790,
     "metadata": {},
     "output_type": "execute_result"
    },
    {
     "data": {
      "image/png": "[encoded data removed]",
      "text/plain": [
       "<Figure size 1000x1000 with 2 Axes>"
      ]
     },
     "metadata": {},
     "output_type": "display_data"
    }
   ],
   "source": [
    "'''df_remove=df.nlargest(6, \"price\")\n",
    "df_new = df.merge(df_remove, how='left', indicator=True)\n",
    "df = df_new[df_new['_merge'] == 'left_only']\n",
    "print(df)\n",
    "df.drop('_merge', axis=1)\n",
    "df.reset_index()\n",
    "\n",
    "df_remove=df.nsmallest(5, \"depth\")\n",
    "df_new = df.merge(df_remove, how='left', indicator=True)\n",
    "df = df_new[df_new['_merge1'] == 'left_only']\n",
    "df.drop('_merge')\n",
    "df.reset_index()\n",
    "\n",
    "df_remove=df.nlargest(1, \"depth\")\n",
    "df_new = df.merge(df_remove, how='left', indicator=True)\n",
    "df = df_new[df_new['_merge2'] == 'left_only']\n",
    "\n",
    "df.drop('_merge')\n",
    "df.reset_index()'''\n",
    "\n",
    "#fig = plt.figure(figsize =(10, 7))\n",
    " \n",
    "# Creating axes instance\n",
    "#ax = fig.add_axes([0, 0, 1, 1])\n",
    " \n",
    "# Creating plot\n",
    "#bp = ax.violinplot(df.drop(columns=\"price\"))#, labels=df.drop(columns=\"price\").columns)\n",
    "\n",
    "# show plot\n",
    "#plt.title(\"Feature box plots\")\n",
    "#plt.show()\n",
    "df[\"volume\"]=df[\"xdimension\"]*df[\"ydimension\"]*df[\"zdimension\"]\n",
    "df=df.drop(\"xdimension\", axis=1)\n",
    "df=df.drop(\"ydimension\",axis=1)\n",
    "df=df.drop(\"zdimension\",axis=1)\n",
    "fig, ax = plt.subplots(figsize=(10,10))         # Sample figsize in inches\n",
    "sns.heatmap(df.corr(), annot=True, center=0.0, linewidths=.5, ax=ax)\n",
    "\n"
   ]
  },
  {
   "cell_type": "code",
   "execution_count": 791,
   "id": "a0560389-0bac-4be4-a3ff-b47d701b33f9",
   "metadata": {},
   "outputs": [
    {
     "data": {
      "text/plain": [
       "'count=0\\nfig, axs = plt.subplots(nrows=1, ncols=3, figsize=(10, 5), sharex=True)\\nsns.histplot(data=df[cat_cols], x=)\\nplt.show()'"
      ]
     },
     "execution_count": 791,
     "metadata": {},
     "output_type": "execute_result"
    }
   ],
   "source": [
    "'''count=0\n",
    "fig, axs = plt.subplots(nrows=1, ncols=3, figsize=(10, 5), sharex=True)\n",
    "sns.histplot(data=df[cat_cols], x=)\n",
    "plt.show()'''\n"
   ]
  },
  {
   "cell_type": "code",
   "execution_count": 792,
   "id": "b564f7e7-c84e-4be5-8448-a59fa36de0c6",
   "metadata": {},
   "outputs": [],
   "source": [
    "import statsmodels.formula.api as smf\n",
    "\n"
   ]
  },
  {
   "cell_type": "code",
   "execution_count": null,
   "id": "242d9c70-cf38-44b1-9f7c-655e08893458",
   "metadata": {},
   "outputs": [],
   "source": []
  },
  {
   "cell_type": "code",
   "execution_count": 793,
   "id": "2f456569-6341-4776-8f97-ac3d0c64824f",
   "metadata": {
    "scrolled": true
   },
   "outputs": [
    {
     "name": "stdout",
     "output_type": "stream",
     "text": [
      "                            OLS Regression Results                            \n",
      "==============================================================================\n",
      "Dep. Variable:                  price   R-squared:                       0.892\n",
      "Model:                            OLS   Adj. R-squared:                  0.888\n",
      "Method:                 Least Squares   F-statistic:                     209.5\n",
      "Date:                Fri, 02 Feb 2024   Prob (F-statistic):           3.92e-82\n",
      "Time:                        00:36:23   Log-Likelihood:                -1543.9\n",
      "No. Observations:                 185   AIC:                             3104.\n",
      "Df Residuals:                     177   BIC:                             3129.\n",
      "Df Model:                           7                                         \n",
      "Covariance Type:            nonrobust                                         \n",
      "==============================================================================\n",
      "                 coef    std err          t      P>|t|      [0.025      0.975]\n",
      "------------------------------------------------------------------------------\n",
      "Intercept  -3.381e+04   2.84e+04     -1.192      0.235   -8.98e+04    2.22e+04\n",
      "volume        92.3840     13.227      6.984      0.000      66.281     118.487\n",
      "carat      -5731.9187   2096.268     -2.734      0.007   -9868.814   -1595.024\n",
      "clarity       23.6039     30.084      0.785      0.434     -35.765      82.973\n",
      "color        -22.7864     43.992     -0.518      0.605    -109.603      64.030\n",
      "cut          154.5438     60.192      2.568      0.011      35.758     273.329\n",
      "depth        281.9925    447.416      0.630      0.529    -600.964    1164.949\n",
      "table        238.6817     63.655      3.750      0.000     113.062     364.302\n",
      "==============================================================================\n",
      "Omnibus:                       65.751   Durbin-Watson:                   2.182\n",
      "Prob(Omnibus):                  0.000   Jarque-Bera (JB):              326.544\n",
      "Skew:                          -1.245   Prob(JB):                     1.24e-71\n",
      "Kurtosis:                       9.013   Cond. No.                     6.04e+04\n",
      "==============================================================================\n",
      "\n",
      "Notes:\n",
      "[1] Standard Errors assume that the covariance matrix of the errors is correctly specified.\n",
      "[2] The condition number is large, 6.04e+04. This might indicate that there are\n",
      "strong multicollinearity or other numerical problems.\n"
     ]
    }
   ],
   "source": [
    "lm = smf.ols(formula=\"price ~ volume + carat + clarity + color + cut + depth + table \", data=df)\n",
    "\n",
    "lm_fit = lm.fit()\n",
    "\n",
    "'''fig, (ax1, ax2) = plt.subplots(1, 2, figsize=(12, 6))\n",
    "df.plot(kind='scatter', y='price', x='features', ax=ax1)\n",
    "\n",
    "x_plot = np.linspace(df.price.min(), df.price.max(), 100)\n",
    "X_plot = patsy.dmatrix(\" ~ 1 + carat + clarity + color + cut + depth + table\", data={\"carat + +clarity + color + cut + depth + table\": x_plot}, return_type='dataframe')\n",
    "y_plot = lm_fit.predict(X_plot)\n",
    "\n",
    "ax1.plot(x_plot, y_plot)\n",
    "\n",
    "#ax2.scatter(df.chas, lm_fit.resid)\n",
    "#ax2.axhline(0, linestyle='--', color='k')\n",
    "ax2.set_xlabel('price')\n",
    "ax2.set_ylabel('residual')'''\n",
    "\n",
    "print(lm_fit.summary())"
   ]
  },
  {
   "cell_type": "code",
   "execution_count": 794,
   "id": "d524c7bb-791e-4684-8e8b-8a030b0820ae",
   "metadata": {},
   "outputs": [
    {
     "name": "stdout",
     "output_type": "stream",
     "text": [
      "                            OLS Regression Results                            \n",
      "==============================================================================\n",
      "Dep. Variable:                  price   R-squared:                       0.892\n",
      "Model:                            OLS   Adj. R-squared:                  0.889\n",
      "Method:                 Least Squares   F-statistic:                     245.4\n",
      "Date:                Fri, 02 Feb 2024   Prob (F-statistic):           2.74e-83\n",
      "Time:                        00:36:23   Log-Likelihood:                -1544.0\n",
      "No. Observations:                 185   AIC:                             3102.\n",
      "Df Residuals:                     178   BIC:                             3125.\n",
      "Df Model:                           6                                         \n",
      "Covariance Type:            nonrobust                                         \n",
      "==============================================================================\n",
      "                 coef    std err          t      P>|t|      [0.025      0.975]\n",
      "------------------------------------------------------------------------------\n",
      "Intercept  -3.289e+04   2.82e+04     -1.164      0.246   -8.86e+04    2.29e+04\n",
      "volume        92.9209     13.159      7.061      0.000      66.953     118.889\n",
      "carat      -5796.5571   2088.245     -2.776      0.006   -9917.459   -1675.655\n",
      "clarity       23.5727     30.022      0.785      0.433     -35.672      82.817\n",
      "cut          156.0519     59.997      2.601      0.010      37.654     274.450\n",
      "depth        262.4694    444.908      0.590      0.556    -615.504    1140.443\n",
      "table        241.9662     63.208      3.828      0.000     117.233     366.699\n",
      "==============================================================================\n",
      "Omnibus:                       66.695   Durbin-Watson:                   2.188\n",
      "Prob(Omnibus):                  0.000   Jarque-Bera (JB):              342.714\n",
      "Skew:                          -1.254   Prob(JB):                     3.81e-75\n",
      "Kurtosis:                       9.179   Cond. No.                     6.02e+04\n",
      "==============================================================================\n",
      "\n",
      "Notes:\n",
      "[1] Standard Errors assume that the covariance matrix of the errors is correctly specified.\n",
      "[2] The condition number is large, 6.02e+04. This might indicate that there are\n",
      "strong multicollinearity or other numerical problems.\n"
     ]
    }
   ],
   "source": [
    "lm = smf.ols(formula=\"price ~ volume + carat + clarity + cut + depth + table \", data=df)\n",
    "\n",
    "lm_fit = lm.fit()\n",
    "\n",
    "print(lm_fit.summary())"
   ]
  },
  {
   "cell_type": "code",
   "execution_count": 795,
   "id": "deb74011-989c-4301-a263-2c6069529102",
   "metadata": {},
   "outputs": [
    {
     "name": "stdout",
     "output_type": "stream",
     "text": [
      "                            OLS Regression Results                            \n",
      "==============================================================================\n",
      "Dep. Variable:                  price   R-squared:                       0.892\n",
      "Model:                            OLS   Adj. R-squared:                  0.889\n",
      "Method:                 Least Squares   F-statistic:                     295.5\n",
      "Date:                Fri, 02 Feb 2024   Prob (F-statistic):           1.80e-84\n",
      "Time:                        00:36:23   Log-Likelihood:                -1544.2\n",
      "No. Observations:                 185   AIC:                             3100.\n",
      "Df Residuals:                     179   BIC:                             3120.\n",
      "Df Model:                           5                                         \n",
      "Covariance Type:            nonrobust                                         \n",
      "==============================================================================\n",
      "                 coef    std err          t      P>|t|      [0.025      0.975]\n",
      "------------------------------------------------------------------------------\n",
      "Intercept  -1.635e+04   3483.529     -4.694      0.000   -2.32e+04   -9477.977\n",
      "volume        93.8266     13.046      7.192      0.000      68.084     119.570\n",
      "carat      -5830.7485   2083.635     -2.798      0.006   -9942.397   -1719.100\n",
      "clarity       24.7863     29.897      0.829      0.408     -34.209      83.782\n",
      "cut          154.9004     59.856      2.588      0.010      36.786     273.015\n",
      "table        237.3854     62.615      3.791      0.000     113.827     360.943\n",
      "==============================================================================\n",
      "Omnibus:                       66.311   Durbin-Watson:                   2.179\n",
      "Prob(Omnibus):                  0.000   Jarque-Bera (JB):              337.204\n",
      "Skew:                          -1.249   Prob(JB):                     5.98e-74\n",
      "Kurtosis:                       9.124   Cond. No.                     6.93e+03\n",
      "==============================================================================\n",
      "\n",
      "Notes:\n",
      "[1] Standard Errors assume that the covariance matrix of the errors is correctly specified.\n",
      "[2] The condition number is large, 6.93e+03. This might indicate that there are\n",
      "strong multicollinearity or other numerical problems.\n"
     ]
    }
   ],
   "source": [
    "lm = smf.ols(formula=\"price ~ volume + carat + clarity + cut + table \", data=df)\n",
    "\n",
    "lm_fit = lm.fit()\n",
    "\n",
    "print(lm_fit.summary())"
   ]
  },
  {
   "cell_type": "code",
   "execution_count": 796,
   "id": "af75f9ee-3f97-43af-854a-3d65fceb59d5",
   "metadata": {},
   "outputs": [
    {
     "name": "stdout",
     "output_type": "stream",
     "text": [
      "                            OLS Regression Results                            \n",
      "==============================================================================\n",
      "Dep. Variable:                  price   R-squared:                       0.888\n",
      "Model:                            OLS   Adj. R-squared:                  0.885\n",
      "Method:                 Least Squares   F-statistic:                     356.4\n",
      "Date:                Fri, 02 Feb 2024   Prob (F-statistic):           2.38e-84\n",
      "Time:                        00:36:23   Log-Likelihood:                -1547.6\n",
      "No. Observations:                 185   AIC:                             3105.\n",
      "Df Residuals:                     180   BIC:                             3121.\n",
      "Df Model:                           4                                         \n",
      "Covariance Type:            nonrobust                                         \n",
      "==============================================================================\n",
      "                 coef    std err          t      P>|t|      [0.025      0.975]\n",
      "------------------------------------------------------------------------------\n",
      "Intercept   -1.84e+04   3446.028     -5.338      0.000   -2.52e+04   -1.16e+04\n",
      "volume        94.8646     13.244      7.163      0.000      68.731     120.999\n",
      "carat      -6003.9831   2115.260     -2.838      0.005   -1.02e+04   -1830.087\n",
      "clarity       19.2639     30.289      0.636      0.526     -40.503      79.031\n",
      "table        278.7296     61.493      4.533      0.000     157.390     400.069\n",
      "==============================================================================\n",
      "Omnibus:                       69.699   Durbin-Watson:                   2.214\n",
      "Prob(Omnibus):                  0.000   Jarque-Bera (JB):              384.474\n",
      "Skew:                          -1.294   Prob(JB):                     3.26e-84\n",
      "Kurtosis:                       9.571   Cond. No.                     6.75e+03\n",
      "==============================================================================\n",
      "\n",
      "Notes:\n",
      "[1] Standard Errors assume that the covariance matrix of the errors is correctly specified.\n",
      "[2] The condition number is large, 6.75e+03. This might indicate that there are\n",
      "strong multicollinearity or other numerical problems.\n"
     ]
    }
   ],
   "source": [
    "lm = smf.ols(formula=\"price ~ volume + carat + clarity + table \", data=df)\n",
    "\n",
    "lm_fit = lm.fit()\n",
    "\n",
    "print(lm_fit.summary())"
   ]
  },
  {
   "cell_type": "code",
   "execution_count": 797,
   "id": "c3505fdf-3779-4519-bccf-fe47161eff32",
   "metadata": {},
   "outputs": [
    {
     "name": "stdout",
     "output_type": "stream",
     "text": [
      "                            OLS Regression Results                            \n",
      "==============================================================================\n",
      "Dep. Variable:                  price   R-squared:                       0.883\n",
      "Model:                            OLS   Adj. R-squared:                  0.881\n",
      "Method:                 Least Squares   F-statistic:                     454.8\n",
      "Date:                Fri, 02 Feb 2024   Prob (F-statistic):           5.24e-84\n",
      "Time:                        00:36:23   Log-Likelihood:                -1551.6\n",
      "No. Observations:                 185   AIC:                             3111.\n",
      "Df Residuals:                     181   BIC:                             3124.\n",
      "Df Model:                           3                                         \n",
      "Covariance Type:            nonrobust                                         \n",
      "==============================================================================\n",
      "                 coef    std err          t      P>|t|      [0.025      0.975]\n",
      "------------------------------------------------------------------------------\n",
      "Intercept  -1.897e+04   3506.612     -5.409      0.000   -2.59e+04    -1.2e+04\n",
      "volume        57.5668      1.687     34.116      0.000      54.237      60.896\n",
      "clarity       25.5159     30.792      0.829      0.408     -35.241      86.273\n",
      "table        290.5266     62.537      4.646      0.000     167.132     413.922\n",
      "==============================================================================\n",
      "Omnibus:                      101.251   Durbin-Watson:                   2.221\n",
      "Prob(Omnibus):                  0.000   Jarque-Bera (JB):              840.135\n",
      "Skew:                          -1.876   Prob(JB):                    3.69e-183\n",
      "Kurtosis:                      12.742   Cond. No.                     6.73e+03\n",
      "==============================================================================\n",
      "\n",
      "Notes:\n",
      "[1] Standard Errors assume that the covariance matrix of the errors is correctly specified.\n",
      "[2] The condition number is large, 6.73e+03. This might indicate that there are\n",
      "strong multicollinearity or other numerical problems.\n"
     ]
    }
   ],
   "source": [
    "lm = smf.ols(formula=\"price ~ volume + clarity + table \", data=df)\n",
    "\n",
    "lm_fit = lm.fit()\n",
    "\n",
    "print(lm_fit.summary())"
   ]
  },
  {
   "cell_type": "code",
   "execution_count": 798,
   "id": "36792b25-0a27-44c0-8256-b6b1d4961dea",
   "metadata": {},
   "outputs": [
    {
     "name": "stdout",
     "output_type": "stream",
     "text": [
      "                            OLS Regression Results                            \n",
      "==============================================================================\n",
      "Dep. Variable:                  price   R-squared:                       0.883\n",
      "Model:                            OLS   Adj. R-squared:                  0.881\n",
      "Method:                 Least Squares   F-statistic:                     454.8\n",
      "Date:                Fri, 02 Feb 2024   Prob (F-statistic):           5.24e-84\n",
      "Time:                        00:36:23   Log-Likelihood:                -1551.6\n",
      "No. Observations:                 185   AIC:                             3111.\n",
      "Df Residuals:                     181   BIC:                             3124.\n",
      "Df Model:                           3                                         \n",
      "Covariance Type:            nonrobust                                         \n",
      "==============================================================================\n",
      "                 coef    std err          t      P>|t|      [0.025      0.975]\n",
      "------------------------------------------------------------------------------\n",
      "Intercept  -1.897e+04   3506.612     -5.409      0.000   -2.59e+04    -1.2e+04\n",
      "volume        57.5668      1.687     34.116      0.000      54.237      60.896\n",
      "clarity       25.5159     30.792      0.829      0.408     -35.241      86.273\n",
      "table        290.5266     62.537      4.646      0.000     167.132     413.922\n",
      "==============================================================================\n",
      "Omnibus:                      101.251   Durbin-Watson:                   2.221\n",
      "Prob(Omnibus):                  0.000   Jarque-Bera (JB):              840.135\n",
      "Skew:                          -1.876   Prob(JB):                    3.69e-183\n",
      "Kurtosis:                      12.742   Cond. No.                     6.73e+03\n",
      "==============================================================================\n",
      "\n",
      "Notes:\n",
      "[1] Standard Errors assume that the covariance matrix of the errors is correctly specified.\n",
      "[2] The condition number is large, 6.73e+03. This might indicate that there are\n",
      "strong multicollinearity or other numerical problems.\n"
     ]
    }
   ],
   "source": [
    "lm = smf.ols(formula=\"price ~ volume + clarity + table \", data=df)\n",
    "\n",
    "lm_fit = lm.fit()\n",
    "\n",
    "print(lm_fit.summary())"
   ]
  },
  {
   "cell_type": "code",
   "execution_count": 799,
   "id": "d3090a70-2d42-4783-82ba-b1eaeea7de97",
   "metadata": {},
   "outputs": [
    {
     "name": "stdout",
     "output_type": "stream",
     "text": [
      "                            OLS Regression Results                            \n",
      "==============================================================================\n",
      "Dep. Variable:                  price   R-squared:                       0.882\n",
      "Model:                            OLS   Adj. R-squared:                  0.881\n",
      "Method:                 Least Squares   F-statistic:                     683.0\n",
      "Date:                Fri, 02 Feb 2024   Prob (F-statistic):           2.50e-85\n",
      "Time:                        00:36:23   Log-Likelihood:                -1552.0\n",
      "No. Observations:                 185   AIC:                             3110.\n",
      "Df Residuals:                     182   BIC:                             3120.\n",
      "Df Model:                           2                                         \n",
      "Covariance Type:            nonrobust                                         \n",
      "==============================================================================\n",
      "                 coef    std err          t      P>|t|      [0.025      0.975]\n",
      "------------------------------------------------------------------------------\n",
      "Intercept  -1.888e+04   3502.132     -5.391      0.000   -2.58e+04    -1.2e+04\n",
      "volume        57.4174      1.676     34.253      0.000      54.110      60.725\n",
      "table        290.5503     62.483      4.650      0.000     167.266     413.834\n",
      "==============================================================================\n",
      "Omnibus:                      105.206   Durbin-Watson:                   2.220\n",
      "Prob(Omnibus):                  0.000   Jarque-Bera (JB):              906.084\n",
      "Skew:                          -1.959   Prob(JB):                    1.76e-197\n",
      "Kurtosis:                      13.109   Cond. No.                     6.73e+03\n",
      "==============================================================================\n",
      "\n",
      "Notes:\n",
      "[1] Standard Errors assume that the covariance matrix of the errors is correctly specified.\n",
      "[2] The condition number is large, 6.73e+03. This might indicate that there are\n",
      "strong multicollinearity or other numerical problems.\n"
     ]
    }
   ],
   "source": [
    "lm = smf.ols(formula=\"price ~ volume + table \", data=df)\n",
    "\n",
    "lm_fit = lm.fit()\n",
    "\n",
    "print(lm_fit.summary())"
   ]
  },
  {
   "cell_type": "code",
   "execution_count": 800,
   "id": "a070e6f7-2912-4a33-8cf0-a7fa27b801c0",
   "metadata": {},
   "outputs": [
    {
     "name": "stdout",
     "output_type": "stream",
     "text": [
      "                            OLS Regression Results                            \n",
      "==============================================================================\n",
      "Dep. Variable:                  price   R-squared:                       0.869\n",
      "Model:                            OLS   Adj. R-squared:                  0.867\n",
      "Method:                 Least Squares   F-statistic:                     603.2\n",
      "Date:                Fri, 02 Feb 2024   Prob (F-statistic):           5.01e-81\n",
      "Time:                        00:36:23   Log-Likelihood:                -1562.0\n",
      "No. Observations:                 185   AIC:                             3130.\n",
      "Df Residuals:                     182   BIC:                             3140.\n",
      "Df Model:                           2                                         \n",
      "Covariance Type:            nonrobust                                         \n",
      "==============================================================================\n",
      "                 coef    std err          t      P>|t|      [0.025      0.975]\n",
      "------------------------------------------------------------------------------\n",
      "Intercept  -2716.9321    265.425    -10.236      0.000   -3240.638   -2193.226\n",
      "volume        59.5628      1.722     34.598      0.000      56.166      62.960\n",
      "clarity       25.5813     32.486      0.787      0.432     -38.517      89.679\n",
      "==============================================================================\n",
      "Omnibus:                      129.849   Durbin-Watson:                   2.200\n",
      "Prob(Omnibus):                  0.000   Jarque-Bera (JB):             1660.913\n",
      "Skew:                          -2.428   Prob(JB):                         0.00\n",
      "Kurtosis:                      16.852   Cond. No.                         452.\n",
      "==============================================================================\n",
      "\n",
      "Notes:\n",
      "[1] Standard Errors assume that the covariance matrix of the errors is correctly specified.\n"
     ]
    }
   ],
   "source": [
    "lm = smf.ols(formula=\"price ~ volume + clarity \", data=df)\n",
    "\n",
    "lm_fit = lm.fit()\n",
    "\n",
    "print(lm_fit.summary())"
   ]
  },
  {
   "cell_type": "code",
   "execution_count": 801,
   "id": "f5f8f336-6453-4f02-ac50-bb0d87d0c7c0",
   "metadata": {},
   "outputs": [
    {
     "name": "stdout",
     "output_type": "stream",
     "text": [
      "                            OLS Regression Results                            \n",
      "==============================================================================\n",
      "Dep. Variable:                  price   R-squared:                       0.855\n",
      "Model:                            OLS   Adj. R-squared:                  0.853\n",
      "Method:                 Least Squares   F-statistic:                     535.8\n",
      "Date:                Fri, 02 Feb 2024   Prob (F-statistic):           5.41e-77\n",
      "Time:                        00:36:23   Log-Likelihood:                -1571.5\n",
      "No. Observations:                 185   AIC:                             3149.\n",
      "Df Residuals:                     182   BIC:                             3159.\n",
      "Df Model:                           2                                         \n",
      "Covariance Type:            nonrobust                                         \n",
      "==================================================================================\n",
      "                     coef    std err          t      P>|t|      [0.025      0.975]\n",
      "----------------------------------------------------------------------------------\n",
      "Intercept        987.3278    185.957      5.309      0.000     620.419    1354.236\n",
      "I(volume ** 2)     0.2110      0.006     32.607      0.000       0.198       0.224\n",
      "clarity           19.3446     34.170      0.566      0.572     -48.075      86.764\n",
      "==============================================================================\n",
      "Omnibus:                      158.321   Durbin-Watson:                   1.951\n",
      "Prob(Omnibus):                  0.000   Jarque-Bera (JB):             4102.296\n",
      "Skew:                          -2.913   Prob(JB):                         0.00\n",
      "Kurtosis:                      25.322   Cond. No.                     5.17e+04\n",
      "==============================================================================\n",
      "\n",
      "Notes:\n",
      "[1] Standard Errors assume that the covariance matrix of the errors is correctly specified.\n",
      "[2] The condition number is large, 5.17e+04. This might indicate that there are\n",
      "strong multicollinearity or other numerical problems.\n"
     ]
    }
   ],
   "source": [
    "lm = smf.ols(formula=\"price ~ I(volume**2) + clarity \", data=df)\n",
    "\n",
    "lm_fit = lm.fit()\n",
    "\n",
    "print(lm_fit.summary())"
   ]
  },
  {
   "cell_type": "code",
   "execution_count": 802,
   "id": "534a05ae-d176-49b4-9ee2-a72aa32c90a9",
   "metadata": {},
   "outputs": [
    {
     "name": "stdout",
     "output_type": "stream",
     "text": [
      "                            OLS Regression Results                            \n",
      "==============================================================================\n",
      "Dep. Variable:                  price   R-squared:                       0.869\n",
      "Model:                            OLS   Adj. R-squared:                  0.868\n",
      "Method:                 Least Squares   F-statistic:                     605.9\n",
      "Date:                Fri, 02 Feb 2024   Prob (F-statistic):           3.50e-81\n",
      "Time:                        00:36:23   Log-Likelihood:                -1561.7\n",
      "No. Observations:                 185   AIC:                             3129.\n",
      "Df Residuals:                     182   BIC:                             3139.\n",
      "Df Model:                           2                                         \n",
      "Covariance Type:            nonrobust                                         \n",
      "===================================================================================\n",
      "                      coef    std err          t      P>|t|      [0.025      0.975]\n",
      "-----------------------------------------------------------------------------------\n",
      "Intercept       -2508.2271    264.136     -9.496      0.000   -3029.389   -1987.065\n",
      "volume             59.1320      1.725     34.283      0.000      55.729      62.535\n",
      "I(clarity ** 2)    -6.4960      5.607     -1.158      0.248     -17.560       4.568\n",
      "==============================================================================\n",
      "Omnibus:                      137.384   Durbin-Watson:                   2.189\n",
      "Prob(Omnibus):                  0.000   Jarque-Bera (JB):             1907.953\n",
      "Skew:                          -2.599   Prob(JB):                         0.00\n",
      "Kurtosis:                      17.850   Cond. No.                         451.\n",
      "==============================================================================\n",
      "\n",
      "Notes:\n",
      "[1] Standard Errors assume that the covariance matrix of the errors is correctly specified.\n"
     ]
    }
   ],
   "source": [
    "lm = smf.ols(formula=\"price ~ volume + I(clarity**2) \", data=df)\n",
    "\n",
    "lm_fit = lm.fit()\n",
    "\n",
    "print(lm_fit.summary())"
   ]
  },
  {
   "cell_type": "code",
   "execution_count": 803,
   "id": "051ab5da-01e7-465d-8a55-45d46364e4bb",
   "metadata": {},
   "outputs": [
    {
     "name": "stdout",
     "output_type": "stream",
     "text": [
      "                            OLS Regression Results                            \n",
      "==============================================================================\n",
      "Dep. Variable:                  price   R-squared:                       0.868\n",
      "Model:                            OLS   Adj. R-squared:                  0.868\n",
      "Method:                 Least Squares   F-statistic:                     1208.\n",
      "Date:                Fri, 02 Feb 2024   Prob (F-statistic):           1.56e-82\n",
      "Time:                        00:36:23   Log-Likelihood:                -1562.4\n",
      "No. Observations:                 185   AIC:                             3129.\n",
      "Df Residuals:                     183   BIC:                             3135.\n",
      "Df Model:                           1                                         \n",
      "Covariance Type:            nonrobust                                         \n",
      "==============================================================================\n",
      "                 coef    std err          t      P>|t|      [0.025      0.975]\n",
      "------------------------------------------------------------------------------\n",
      "Intercept  -2631.4918    241.983    -10.875      0.000   -3108.927   -2154.056\n",
      "volume        59.4132      1.709     34.759      0.000      56.041      62.786\n",
      "==============================================================================\n",
      "Omnibus:                      133.298   Durbin-Watson:                   2.197\n",
      "Prob(Omnibus):                  0.000   Jarque-Bera (JB):             1764.838\n",
      "Skew:                          -2.507   Prob(JB):                         0.00\n",
      "Kurtosis:                      17.276   Cond. No.                         412.\n",
      "==============================================================================\n",
      "\n",
      "Notes:\n",
      "[1] Standard Errors assume that the covariance matrix of the errors is correctly specified.\n"
     ]
    }
   ],
   "source": [
    "lm = smf.ols(formula=\"price ~ volume \", data=df)\n",
    "\n",
    "lm_fit = lm.fit()\n",
    "\n",
    "print(lm_fit.summary())"
   ]
  },
  {
   "cell_type": "code",
   "execution_count": 804,
   "id": "d82e56c9",
   "metadata": {},
   "outputs": [
    {
     "data": {
      "image/png": "[encoded data removed]",
      "text/plain": [
       "<Figure size 1000x500 with 1 Axes>"
      ]
     },
     "metadata": {},
     "output_type": "display_data"
    },
    {
     "name": "stdout",
     "output_type": "stream",
     "text": [
      "        carat  clarity  color  cut      depth      table    price      volume\n",
      "39   0.805864       -1      4    0  61.900000  55.000000   2200.0  126.896679\n",
      "40   0.450000        6      5    4  62.100000  56.000000   1500.0   69.639360\n",
      "44   0.860633        5      2    0  62.417556  54.000000   2700.0  134.487961\n",
      "46   0.550000        2      7    4  62.300000  56.000000   2600.0   97.602908\n",
      "53   0.500000        1      2    3  62.184880  58.000000   2900.0   87.758482\n",
      "..        ...      ...    ...  ...        ...        ...      ...         ...\n",
      "194  0.950000        5      4    4  62.445789  56.000000   7100.0  162.708480\n",
      "195  0.450000        5      3    2  62.400000  59.000000   2300.0   72.417466\n",
      "196  1.250000        2      5    1  62.560589  55.000000  10400.0  203.241859\n",
      "198  0.850000        6      2    0  62.350207  58.000000   6300.0  141.345540\n",
      "199  1.016123        1      4    2  62.500000  57.079105   7500.0  163.373440\n",
      "\n",
      "[101 rows x 8 columns]\n"
     ]
    },
    {
     "data": {
      "text/plain": [
       "'\\nfig = go.Figure()\\nfig.add_trace(go.Scatter(\\n    x=df[\"price\"],y=df[\"volume\"],name= \"Price vs volume\",mode=\"markers\"\\n))\\nfig.add_trace(go.Scatter(\\n    x=df[\"price\"],y=lm_fit.fittedvalues,name=\"Fitted regression line\", mode=\"lines\"\\n))\\nfig.update_layout(title=\"Title\",xaxis_title=\"Price\",yaxis_title=\"Volume\")\\n'"
      ]
     },
     "execution_count": 804,
     "metadata": {},
     "output_type": "execute_result"
    }
   ],
   "source": [
    "import plotly.graph_objects as go\n",
    "\n",
    "fig, ax = plt.subplots(nrows=1, ncols=1, figsize=(10, 5))\n",
    "#ax.scatter(df[\"price\"],df[\"volume\"])\n",
    "#ax.scatter(df[\"price\"], lm_fit.fittedvalues)\n",
    "#print(len(df[\"price\"]))\n",
    "\n",
    "#print(len(lm_fit.fittedvalues))\n",
    "plt.show()\n",
    "\n",
    "print(df[df.duplicated(subset=[\"price\"])==True])\n",
    "\n",
    "'''\n",
    "fig = go.Figure()\n",
    "fig.add_trace(go.Scatter(\n",
    "    x=df[\"price\"],y=df[\"volume\"],name= \"Price vs volume\",mode=\"markers\"\n",
    "))\n",
    "fig.add_trace(go.Scatter(\n",
    "    x=df[\"price\"],y=lm_fit.fittedvalues,name=\"Fitted regression line\", mode=\"lines\"\n",
    "))\n",
    "fig.update_layout(title=\"Title\",xaxis_title=\"Price\",yaxis_title=\"Volume\")\n",
    "'''\n",
    "#fig.show()"
   ]
  },
  {
   "cell_type": "code",
   "execution_count": 805,
   "metadata": {},
   "outputs": [
    {
     "data": {
      "application/vnd.plotly.v1+json": {
       "config": {
        "plotlyServerURL": "https://plot.ly"
       },
       "data": [
        {
         "mode": "markers",
         "name": "Price vs volume",
         "type": "scatter",
         "x": [
          4500,
          700,
          4200,
          1500,
          327.2812570244714,
          7500,
          2000,
          9200,
          1800,
          2300,
          2200,
          6000,
          11000,
          800,
          3400,
          500,
          1300,
          1600,
          2500,
          7700,
          2900,
          10800,
          2600,
          9300,
          1700,
          2800,
          2700,
          9400,
          8500,
          2200,
          1500,
          5900,
          4800,
          7300,
          2700,
          1400,
          2600,
          1200,
          9500,
          3800,
          3300,
          11200,
          600,
          2900,
          9900,
          8100,
          1400,
          9800,
          2100,
          1700,
          3700,
          5000,
          900,
          4600,
          2500,
          9600,
          1800,
          2300,
          7900,
          4000,
          6600,
          3100,
          1100,
          10200,
          3500,
          2800,
          9900,
          4700,
          2600,
          2200,
          6500,
          1900,
          7100,
          7800,
          6700,
          3200,
          2400,
          2600,
          9200,
          3000,
          4100,
          3600,
          10300,
          2300,
          3400,
          8000,
          4400,
          11500,
          2500,
          1500,
          6800,
          7300,
          3100,
          3300,
          7700,
          5900,
          9300,
          7900,
          4200,
          9800,
          2700,
          2900,
          6500,
          10100,
          3000,
          7400,
          2600,
          4600,
          7200,
          3600,
          6800,
          9500,
          7600,
          2100,
          4300,
          2200,
          6300,
          10400,
          2800,
          7800,
          3400,
          10200,
          3200,
          6400,
          2300,
          9300,
          2400,
          10100,
          2600,
          4500,
          6900,
          9600,
          3100,
          7700,
          3300,
          4000,
          7900,
          10300,
          4300,
          2100,
          7400,
          6500,
          4100,
          2600,
          10100,
          3200,
          3500,
          12000,
          8000,
          4600,
          9400,
          2200,
          2400,
          4400,
          10700,
          7900,
          6900,
          3600,
          2500,
          6600,
          10500,
          3100,
          7100,
          7600,
          2500,
          9900,
          8100,
          4200,
          3300,
          10100,
          9200,
          2100,
          4900,
          7900,
          2900,
          9900,
          3400,
          9800,
          2000,
          7700,
          7100,
          2300,
          10400,
          6300,
          7500
         ],
         "y": [
          334.413696347945,
          385.51068498683753,
          -701.4207674028185,
          101.711694472604,
          -0.4736233565395196,
          344.2252058986887,
          -2213.8763378956883,
          1271.7877359406775,
          -1029.7118444325374,
          -187.54565462897563,
          -1341.4681940786036,
          -61.15715491563424,
          436.2857575622111,
          -135.89951741840105,
          -8177.044376878084,
          959.2216736811138,
          547.7862614791961,
          686.5744335369468,
          -693.836903805241,
          -753.3118198183456,
          -937.6731807588708,
          -163.27105160230167,
          -3152.592579247401,
          -155.20799782532777,
          -19.120212577810435,
          -667.5494597726088,
          -186.3203761186901,
          2828.1977279834464,
          621.6141291287804,
          -2707.8397011709294,
          -6.001971563178358,
          -252.35462956139963,
          200.49454584024352,
          696.654471621785,
          -2658.8616947303053,
          445.4015922328372,
          -567.4044582918618,
          -211.94857717980221,
          1132.9893466370304,
          -404.927507277338,
          -529.2748117196702,
          650.4660168988758,
          77.69856958933224,
          317.483926133777,
          473.5141673615999,
          -851.4988137325072,
          -3.5071567014879292,
          2316.4759502497436,
          -2750.522709299201,
          -1151.1065268179495,
          -129.2748117196702,
          -760.2229904844826,
          159.8786973911433,
          20.550967666480574,
          -2370.504861997262,
          1662.4590902329383,
          620.4275444458772,
          -538.1012793652903,
          -1017.4812200594824,
          -170.63009949506886,
          418.491194112803,
          559.2962108879524,
          -356.26603469095016,
          1288.2303072125906,
          -322.25455381062284,
          -341.5214442295214,
          412.9572627395628,
          -209.17058239960534,
          -2688.109239643665,
          -72.14004122952201,
          1113.6039410462126,
          -2363.7550189366993,
          -794.5051077362314,
          1158.3632900053108,
          512.7329397481026,
          597.2532569226137,
          -1096.3138143802594,
          1420.4275444458772,
          773.3985504268403,
          -1582.8108879293995,
          -58.67557940468578,
          -168.98933576968784,
          1331.8393965728683,
          -526.8699573021017,
          -72.46668106537027,
          940.0566833299436,
          -491.74592991204736,
          914.3145606532307,
          -2410.0415689377824,
          74.39115116779067,
          173.03596174886843,
          -1070.2241433510862,
          276.8631222166009,
          -503.6558610563184,
          199.79988805862376,
          572.3318691455079,
          331.49238943097953,
          855.9443694768925,
          60.560022327146726,
          -176.37418406377037,
          1304.9342637768264,
          -873.3883825670969,
          788.5058737485815,
          664.7343603698209,
          747.4021924810718,
          -511.69975391938715,
          939.8667067782458,
          93.42120946043542,
          695.1186756964089,
          122.6683155273854,
          647.3953114989836,
          1061.5724670003547,
          59.057319836470924,
          426.27978460793975,
          100.99407641109974,
          -983.089064809415,
          974.9486107807516,
          974.828327340314,
          -327.00780342223834,
          1218.4418702547264,
          -399.1642268491082,
          208.3075332416738,
          663.5682576711483,
          661.1069050845927,
          -1517.806015451703,
          1314.34513237998,
          1193.8021885654011,
          1186.058170509008,
          -2291.7459299120474,
          -383.89388789055374,
          -144.8476232921712,
          188.12293918458272,
          227.99681688683313,
          184.2366131832423,
          -510.7093903298651,
          -1672.3115270925227,
          343.45542641300926,
          -212.68803691222274,
          -206.57879053956458,
          699.7766210644631,
          -977.1613901923611,
          328.4613354786852,
          -51.36063226722945,
          902.6617379934737,
          688.1229391845827,
          909.4403344527559,
          -37.446920656878774,
          907.4268593816141,
          955.1523767078288,
          -350.84656762740633,
          482.51877994051756,
          1022.2404585007948,
          -804.584742801067,
          -510.915228032547,
          -420.5214865837406,
          -69.6168816690315,
          320.27298149470334,
          114.01972130074637,
          -1683.3700207982838,
          452.9341428689768,
          1035.291070313986,
          560.5625005344268,
          124.69903461249851,
          513.0498596179932,
          1039.4648648736625,
          -121.3585513694452,
          102.68984911945154,
          -286.6955854630414,
          184.75353289911482,
          1148.5011862674928,
          1114.0783106766266,
          1393.1298907680284,
          -438.3783504052717,
          384.2366131832423,
          620.3471620309651,
          -683.7040245341523,
          -101.18823286236739,
          725.1167075532176,
          806.2203144453633,
          1125.0356768755046,
          64.4683587672298,
          628.9419817164803,
          956.2526111191128,
          533.7079364206056,
          424.9609899520583
         ]
        },
        {
         "name": "y=0",
         "type": "scatter",
         "x": [
          4500,
          700,
          4200,
          1500,
          327.2812570244714,
          7500,
          2000,
          9200,
          1800,
          2300,
          2200,
          6000,
          11000,
          800,
          3400,
          500,
          1300,
          1600,
          2500,
          7700,
          2900,
          10800,
          2600,
          9300,
          1700,
          2800,
          2700,
          9400,
          8500,
          2200,
          1500,
          5900,
          4800,
          7300,
          2700,
          1400,
          2600,
          1200,
          9500,
          3800,
          3300,
          11200,
          600,
          2900,
          9900,
          8100,
          1400,
          9800,
          2100,
          1700,
          3700,
          5000,
          900,
          4600,
          2500,
          9600,
          1800,
          2300,
          7900,
          4000,
          6600,
          3100,
          1100,
          10200,
          3500,
          2800,
          9900,
          4700,
          2600,
          2200,
          6500,
          1900,
          7100,
          7800,
          6700,
          3200,
          2400,
          2600,
          9200,
          3000,
          4100,
          3600,
          10300,
          2300,
          3400,
          8000,
          4400,
          11500,
          2500,
          1500,
          6800,
          7300,
          3100,
          3300,
          7700,
          5900,
          9300,
          7900,
          4200,
          9800,
          2700,
          2900,
          6500,
          10100,
          3000,
          7400,
          2600,
          4600,
          7200,
          3600,
          6800,
          9500,
          7600,
          2100,
          4300,
          2200,
          6300,
          10400,
          2800,
          7800,
          3400,
          10200,
          3200,
          6400,
          2300,
          9300,
          2400,
          10100,
          2600,
          4500,
          6900,
          9600,
          3100,
          7700,
          3300,
          4000,
          7900,
          10300,
          4300,
          2100,
          7400,
          6500,
          4100,
          2600,
          10100,
          3200,
          3500,
          12000,
          8000,
          4600,
          9400,
          2200,
          2400,
          4400,
          10700,
          7900,
          6900,
          3600,
          2500,
          6600,
          10500,
          3100,
          7100,
          7600,
          2500,
          9900,
          8100,
          4200,
          3300,
          10100,
          9200,
          2100,
          4900,
          7900,
          2900,
          9900,
          3400,
          9800,
          2000,
          7700,
          7100,
          2300,
          10400,
          6300,
          7500
         ],
         "y": [
          0,
          0,
          0,
          0,
          0,
          0,
          0,
          0,
          0,
          0,
          0,
          0,
          0,
          0,
          0,
          0,
          0,
          0,
          0,
          0,
          0,
          0,
          0,
          0,
          0,
          0,
          0,
          0,
          0,
          0,
          0,
          0,
          0,
          0,
          0,
          0,
          0,
          0,
          0,
          0,
          0,
          0,
          0,
          0,
          0,
          0,
          0,
          0,
          0,
          0,
          0,
          0,
          0,
          0,
          0,
          0,
          0,
          0,
          0,
          0,
          0,
          0,
          0,
          0,
          0,
          0,
          0,
          0,
          0,
          0,
          0,
          0,
          0,
          0,
          0,
          0,
          0,
          0,
          0,
          0,
          0,
          0,
          0,
          0,
          0,
          0,
          0,
          0,
          0,
          0,
          0,
          0,
          0,
          0,
          0,
          0,
          0,
          0,
          0,
          0,
          0,
          0,
          0,
          0,
          0,
          0,
          0,
          0,
          0,
          0,
          0,
          0,
          0,
          0,
          0,
          0,
          0,
          0,
          0,
          0,
          0,
          0,
          0,
          0,
          0,
          0,
          0,
          0,
          0,
          0,
          0,
          0,
          0,
          0,
          0,
          0,
          0,
          0,
          0,
          0,
          0,
          0,
          0,
          0,
          0,
          0,
          0,
          0,
          0,
          0,
          0,
          0,
          0,
          0,
          0,
          0,
          0,
          0,
          0,
          0,
          0,
          0,
          0,
          0,
          0,
          0,
          0,
          0,
          0,
          0,
          0,
          0,
          0,
          0,
          0,
          0,
          0,
          0,
          0,
          0,
          0,
          0,
          0,
          0,
          0
         ]
        }
       ],
       "layout": {
        "template": {
         "data": {
          "bar": [
           {
            "error_x": {
             "color": "#2a3f5f"
            },
            "error_y": {
             "color": "#2a3f5f"
            },
            "marker": {
             "line": {
              "color": "#E5ECF6",
              "width": 0.5
             },
             "pattern": {
              "fillmode": "overlay",
              "size": 10,
              "solidity": 0.2
             }
            },
            "type": "bar"
           }
          ],
          "barpolar": [
           {
            "marker": {
             "line": {
              "color": "#E5ECF6",
              "width": 0.5
             },
             "pattern": {
              "fillmode": "overlay",
              "size": 10,
              "solidity": 0.2
             }
            },
            "type": "barpolar"
           }
          ],
          "carpet": [
           {
            "aaxis": {
             "endlinecolor": "#2a3f5f",
             "gridcolor": "white",
             "linecolor": "white",
             "minorgridcolor": "white",
             "startlinecolor": "#2a3f5f"
            },
            "baxis": {
             "endlinecolor": "#2a3f5f",
             "gridcolor": "white",
             "linecolor": "white",
             "minorgridcolor": "white",
             "startlinecolor": "#2a3f5f"
            },
            "type": "carpet"
           }
          ],
          "choropleth": [
           {
            "colorbar": {
             "outlinewidth": 0,
             "ticks": ""
            },
            "type": "choropleth"
           }
          ],
          "contour": [
           {
            "colorbar": {
             "outlinewidth": 0,
             "ticks": ""
            },
            "colorscale": [
             [
              0,
              "#0d0887"
             ],
             [
              0.1111111111111111,
              "#46039f"
             ],
             [
              0.2222222222222222,
              "#7201a8"
             ],
             [
              0.3333333333333333,
              "#9c179e"
             ],
             [
              0.4444444444444444,
              "#bd3786"
             ],
             [
              0.5555555555555556,
              "#d8576b"
             ],
             [
              0.6666666666666666,
              "#ed7953"
             ],
             [
              0.7777777777777778,
              "#fb9f3a"
             ],
             [
              0.8888888888888888,
              "#fdca26"
             ],
             [
              1,
              "#f0f921"
             ]
            ],
            "type": "contour"
           }
          ],
          "contourcarpet": [
           {
            "colorbar": {
             "outlinewidth": 0,
             "ticks": ""
            },
            "type": "contourcarpet"
           }
          ],
          "heatmap": [
           {
            "colorbar": {
             "outlinewidth": 0,
             "ticks": ""
            },
            "colorscale": [
             [
              0,
              "#0d0887"
             ],
             [
              0.1111111111111111,
              "#46039f"
             ],
             [
              0.2222222222222222,
              "#7201a8"
             ],
             [
              0.3333333333333333,
              "#9c179e"
             ],
             [
              0.4444444444444444,
              "#bd3786"
             ],
             [
              0.5555555555555556,
              "#d8576b"
             ],
             [
              0.6666666666666666,
              "#ed7953"
             ],
             [
              0.7777777777777778,
              "#fb9f3a"
             ],
             [
              0.8888888888888888,
              "#fdca26"
             ],
             [
              1,
              "#f0f921"
             ]
            ],
            "type": "heatmap"
           }
          ],
          "heatmapgl": [
           {
            "colorbar": {
             "outlinewidth": 0,
             "ticks": ""
            },
            "colorscale": [
             [
              0,
              "#0d0887"
             ],
             [
              0.1111111111111111,
              "#46039f"
             ],
             [
              0.2222222222222222,
              "#7201a8"
             ],
             [
              0.3333333333333333,
              "#9c179e"
             ],
             [
              0.4444444444444444,
              "#bd3786"
             ],
             [
              0.5555555555555556,
              "#d8576b"
             ],
             [
              0.6666666666666666,
              "#ed7953"
             ],
             [
              0.7777777777777778,
              "#fb9f3a"
             ],
             [
              0.8888888888888888,
              "#fdca26"
             ],
             [
              1,
              "#f0f921"
             ]
            ],
            "type": "heatmapgl"
           }
          ],
          "histogram": [
           {
            "marker": {
             "pattern": {
              "fillmode": "overlay",
              "size": 10,
              "solidity": 0.2
             }
            },
            "type": "histogram"
           }
          ],
          "histogram2d": [
           {
            "colorbar": {
             "outlinewidth": 0,
             "ticks": ""
            },
            "colorscale": [
             [
              0,
              "#0d0887"
             ],
             [
              0.1111111111111111,
              "#46039f"
             ],
             [
              0.2222222222222222,
              "#7201a8"
             ],
             [
              0.3333333333333333,
              "#9c179e"
             ],
             [
              0.4444444444444444,
              "#bd3786"
             ],
             [
              0.5555555555555556,
              "#d8576b"
             ],
             [
              0.6666666666666666,
              "#ed7953"
             ],
             [
              0.7777777777777778,
              "#fb9f3a"
             ],
             [
              0.8888888888888888,
              "#fdca26"
             ],
             [
              1,
              "#f0f921"
             ]
            ],
            "type": "histogram2d"
           }
          ],
          "histogram2dcontour": [
           {
            "colorbar": {
             "outlinewidth": 0,
             "ticks": ""
            },
            "colorscale": [
             [
              0,
              "#0d0887"
             ],
             [
              0.1111111111111111,
              "#46039f"
             ],
             [
              0.2222222222222222,
              "#7201a8"
             ],
             [
              0.3333333333333333,
              "#9c179e"
             ],
             [
              0.4444444444444444,
              "#bd3786"
             ],
             [
              0.5555555555555556,
              "#d8576b"
             ],
             [
              0.6666666666666666,
              "#ed7953"
             ],
             [
              0.7777777777777778,
              "#fb9f3a"
             ],
             [
              0.8888888888888888,
              "#fdca26"
             ],
             [
              1,
              "#f0f921"
             ]
            ],
            "type": "histogram2dcontour"
           }
          ],
          "mesh3d": [
           {
            "colorbar": {
             "outlinewidth": 0,
             "ticks": ""
            },
            "type": "mesh3d"
           }
          ],
          "parcoords": [
           {
            "line": {
             "colorbar": {
              "outlinewidth": 0,
              "ticks": ""
             }
            },
            "type": "parcoords"
           }
          ],
          "pie": [
           {
            "automargin": true,
            "type": "pie"
           }
          ],
          "scatter": [
           {
            "fillpattern": {
             "fillmode": "overlay",
             "size": 10,
             "solidity": 0.2
            },
            "type": "scatter"
           }
          ],
          "scatter3d": [
           {
            "line": {
             "colorbar": {
              "outlinewidth": 0,
              "ticks": ""
             }
            },
            "marker": {
             "colorbar": {
              "outlinewidth": 0,
              "ticks": ""
             }
            },
            "type": "scatter3d"
           }
          ],
          "scattercarpet": [
           {
            "marker": {
             "colorbar": {
              "outlinewidth": 0,
              "ticks": ""
             }
            },
            "type": "scattercarpet"
           }
          ],
          "scattergeo": [
           {
            "marker": {
             "colorbar": {
              "outlinewidth": 0,
              "ticks": ""
             }
            },
            "type": "scattergeo"
           }
          ],
          "scattergl": [
           {
            "marker": {
             "colorbar": {
              "outlinewidth": 0,
              "ticks": ""
             }
            },
            "type": "scattergl"
           }
          ],
          "scattermapbox": [
           {
            "marker": {
             "colorbar": {
              "outlinewidth": 0,
              "ticks": ""
             }
            },
            "type": "scattermapbox"
           }
          ],
          "scatterpolar": [
           {
            "marker": {
             "colorbar": {
              "outlinewidth": 0,
              "ticks": ""
             }
            },
            "type": "scatterpolar"
           }
          ],
          "scatterpolargl": [
           {
            "marker": {
             "colorbar": {
              "outlinewidth": 0,
              "ticks": ""
             }
            },
            "type": "scatterpolargl"
           }
          ],
          "scatterternary": [
           {
            "marker": {
             "colorbar": {
              "outlinewidth": 0,
              "ticks": ""
             }
            },
            "type": "scatterternary"
           }
          ],
          "surface": [
           {
            "colorbar": {
             "outlinewidth": 0,
             "ticks": ""
            },
            "colorscale": [
             [
              0,
              "#0d0887"
             ],
             [
              0.1111111111111111,
              "#46039f"
             ],
             [
              0.2222222222222222,
              "#7201a8"
             ],
             [
              0.3333333333333333,
              "#9c179e"
             ],
             [
              0.4444444444444444,
              "#bd3786"
             ],
             [
              0.5555555555555556,
              "#d8576b"
             ],
             [
              0.6666666666666666,
              "#ed7953"
             ],
             [
              0.7777777777777778,
              "#fb9f3a"
             ],
             [
              0.8888888888888888,
              "#fdca26"
             ],
             [
              1,
              "#f0f921"
             ]
            ],
            "type": "surface"
           }
          ],
          "table": [
           {
            "cells": {
             "fill": {
              "color": "#EBF0F8"
             },
             "line": {
              "color": "white"
             }
            },
            "header": {
             "fill": {
              "color": "#C8D4E3"
             },
             "line": {
              "color": "white"
             }
            },
            "type": "table"
           }
          ]
         },
         "layout": {
          "annotationdefaults": {
           "arrowcolor": "#2a3f5f",
           "arrowhead": 0,
           "arrowwidth": 1
          },
          "autotypenumbers": "strict",
          "coloraxis": {
           "colorbar": {
            "outlinewidth": 0,
            "ticks": ""
           }
          },
          "colorscale": {
           "diverging": [
            [
             0,
             "#8e0152"
            ],
            [
             0.1,
             "#c51b7d"
            ],
            [
             0.2,
             "#de77ae"
            ],
            [
             0.3,
             "#f1b6da"
            ],
            [
             0.4,
             "#fde0ef"
            ],
            [
             0.5,
             "#f7f7f7"
            ],
            [
             0.6,
             "#e6f5d0"
            ],
            [
             0.7,
             "#b8e186"
            ],
            [
             0.8,
             "#7fbc41"
            ],
            [
             0.9,
             "#4d9221"
            ],
            [
             1,
             "#276419"
            ]
           ],
           "sequential": [
            [
             0,
             "#0d0887"
            ],
            [
             0.1111111111111111,
             "#46039f"
            ],
            [
             0.2222222222222222,
             "#7201a8"
            ],
            [
             0.3333333333333333,
             "#9c179e"
            ],
            [
             0.4444444444444444,
             "#bd3786"
            ],
            [
             0.5555555555555556,
             "#d8576b"
            ],
            [
             0.6666666666666666,
             "#ed7953"
            ],
            [
             0.7777777777777778,
             "#fb9f3a"
            ],
            [
             0.8888888888888888,
             "#fdca26"
            ],
            [
             1,
             "#f0f921"
            ]
           ],
           "sequentialminus": [
            [
             0,
             "#0d0887"
            ],
            [
             0.1111111111111111,
             "#46039f"
            ],
            [
             0.2222222222222222,
             "#7201a8"
            ],
            [
             0.3333333333333333,
             "#9c179e"
            ],
            [
             0.4444444444444444,
             "#bd3786"
            ],
            [
             0.5555555555555556,
             "#d8576b"
            ],
            [
             0.6666666666666666,
             "#ed7953"
            ],
            [
             0.7777777777777778,
             "#fb9f3a"
            ],
            [
             0.8888888888888888,
             "#fdca26"
            ],
            [
             1,
             "#f0f921"
            ]
           ]
          },
          "colorway": [
           "#636efa",
           "#EF553B",
           "#00cc96",
           "#ab63fa",
           "#FFA15A",
           "#19d3f3",
           "#FF6692",
           "#B6E880",
           "#FF97FF",
           "#FECB52"
          ],
          "font": {
           "color": "#2a3f5f"
          },
          "geo": {
           "bgcolor": "white",
           "lakecolor": "white",
           "landcolor": "#E5ECF6",
           "showlakes": true,
           "showland": true,
           "subunitcolor": "white"
          },
          "hoverlabel": {
           "align": "left"
          },
          "hovermode": "closest",
          "mapbox": {
           "style": "light"
          },
          "paper_bgcolor": "white",
          "plot_bgcolor": "#E5ECF6",
          "polar": {
           "angularaxis": {
            "gridcolor": "white",
            "linecolor": "white",
            "ticks": ""
           },
           "bgcolor": "#E5ECF6",
           "radialaxis": {
            "gridcolor": "white",
            "linecolor": "white",
            "ticks": ""
           }
          },
          "scene": {
           "xaxis": {
            "backgroundcolor": "#E5ECF6",
            "gridcolor": "white",
            "gridwidth": 2,
            "linecolor": "white",
            "showbackground": true,
            "ticks": "",
            "zerolinecolor": "white"
           },
           "yaxis": {
            "backgroundcolor": "#E5ECF6",
            "gridcolor": "white",
            "gridwidth": 2,
            "linecolor": "white",
            "showbackground": true,
            "ticks": "",
            "zerolinecolor": "white"
           },
           "zaxis": {
            "backgroundcolor": "#E5ECF6",
            "gridcolor": "white",
            "gridwidth": 2,
            "linecolor": "white",
            "showbackground": true,
            "ticks": "",
            "zerolinecolor": "white"
           }
          },
          "shapedefaults": {
           "line": {
            "color": "#2a3f5f"
           }
          },
          "ternary": {
           "aaxis": {
            "gridcolor": "white",
            "linecolor": "white",
            "ticks": ""
           },
           "baxis": {
            "gridcolor": "white",
            "linecolor": "white",
            "ticks": ""
           },
           "bgcolor": "#E5ECF6",
           "caxis": {
            "gridcolor": "white",
            "linecolor": "white",
            "ticks": ""
           }
          },
          "title": {
           "x": 0.05
          },
          "xaxis": {
           "automargin": true,
           "gridcolor": "white",
           "linecolor": "white",
           "ticks": "",
           "title": {
            "standoff": 15
           },
           "zerolinecolor": "white",
           "zerolinewidth": 2
          },
          "yaxis": {
           "automargin": true,
           "gridcolor": "white",
           "linecolor": "white",
           "ticks": "",
           "title": {
            "standoff": 15
           },
           "zerolinecolor": "white",
           "zerolinewidth": 2
          }
         }
        }
       }
      }
     },
     "metadata": {},
     "output_type": "display_data"
    }
   ],
   "source": [
    "fig = go.Figure()\n",
    "fig.add_trace(go.Scatter(\n",
    "    x=df[\"price\"],y=lm_fit.resid,name= \"Price vs volume\",mode=\"markers\"\n",
    "))\n",
    "line_y=[0]*len(df[\"price\"])\n",
    "fig.add_trace(go.Scatter(\n",
    "    x=df[\"price\"],y=line_y,name=\"y=0\", \n",
    "))\n",
    "fig.show()"
   ]
  },
  {
   "cell_type": "code",
   "execution_count": 806,
   "id": "c6a3fc83-aa4c-4f2c-b385-702600193f87",
   "metadata": {},
   "outputs": [
    {
     "data": {
      "text/plain": [
       "'from sklearn.preprocessing import MinMaxScaler\\nscaler = MinMaxScaler()\\ndf_scaled = scaler.fit_transform(df)\\n#X_train_scaled=scaler.fit_transform(X_train)\\n#X_test_scaled=scaler.fit_transform(X_test)\\n#y_train_scaled=scaler.fit_transform(X_train)\\n#y_test_scaled=scaler.fit_transform(X_test)\\n\\nlm = smf.ols(formula=\"price ~ carat+clarity+color+cut+xdimension+ydimension+zdimension+depth+table\", data=df)\\n\\nlm_fit = lm.fit()\\n\\nfig, (ax1, ax2) = plt.subplots(1, 2, figsize=(12, 6))\\ndf.plot(kind=\\'scatter\\', y=\\'price\\', x=\\'features\\', ax=ax1)\\n\\nx_plot = np.linspace(df.price.min(), df.price.max(), 100)\\nX_plot = patsy.dmatrix(\" ~ 1 + carat + clarity + color + cut + depth + table\", data={\"carat + +clarity + color + cut + depth + table\": x_plot}, return_type=\\'dataframe\\')\\ny_plot = lm_fit.predict(X_plot)\\n\\nax1.plot(x_plot, y_plot)\\n\\n#ax2.scatter(df.chas, lm_fit.resid)\\n#ax2.axhline(0, linestyle=\\'--\\', color=\\'k\\')\\nax2.set_xlabel(\\'price\\')\\nax2.set_ylabel(\\'residual\\')\\n\\nprint(lm_fit.summary())'"
      ]
     },
     "execution_count": 806,
     "metadata": {},
     "output_type": "execute_result"
    }
   ],
   "source": [
    "'''from sklearn.preprocessing import MinMaxScaler\n",
    "scaler = MinMaxScaler()\n",
    "df_scaled = scaler.fit_transform(df)\n",
    "#X_train_scaled=scaler.fit_transform(X_train)\n",
    "#X_test_scaled=scaler.fit_transform(X_test)\n",
    "#y_train_scaled=scaler.fit_transform(X_train)\n",
    "#y_test_scaled=scaler.fit_transform(X_test)\n",
    "\n",
    "lm = smf.ols(formula=\"price ~ carat+clarity+color+cut+xdimension+ydimension+zdimension+depth+table\", data=df)\n",
    "\n",
    "lm_fit = lm.fit()\n",
    "\n",
    "fig, (ax1, ax2) = plt.subplots(1, 2, figsize=(12, 6))\n",
    "df.plot(kind='scatter', y='price', x='features', ax=ax1)\n",
    "\n",
    "x_plot = np.linspace(df.price.min(), df.price.max(), 100)\n",
    "X_plot = patsy.dmatrix(\" ~ 1 + carat + clarity + color + cut + depth + table\", data={\"carat + +clarity + color + cut + depth + table\": x_plot}, return_type='dataframe')\n",
    "y_plot = lm_fit.predict(X_plot)\n",
    "\n",
    "ax1.plot(x_plot, y_plot)\n",
    "\n",
    "#ax2.scatter(df.chas, lm_fit.resid)\n",
    "#ax2.axhline(0, linestyle='--', color='k')\n",
    "ax2.set_xlabel('price')\n",
    "ax2.set_ylabel('residual')\n",
    "\n",
    "print(lm_fit.summary())'''"
   ]
  },
  {
   "cell_type": "code",
   "execution_count": 807,
   "id": "f4774b64-cc1e-479a-a814-e66417edcdd5",
   "metadata": {},
   "outputs": [
    {
     "name": "stdout",
     "output_type": "stream",
     "text": [
      "[-1.43234328e+05 -1.01863407e-10 -4.29281499e-10 -1.45519152e-10\n",
      " -5.84438353e+05  1.15790866e+06 -8.37046389e+05  4.73112503e+03\n",
      " -4.84198903e+03]\n",
      "['carat' 'clarity' 'color' 'cut' 'xdimension' 'ydimension' 'zdimension'\n",
      " 'depth' 'table']\n",
      "RMSE: 44179.3901311562\n",
      "R2  : 0.5989154245313995\n"
     ]
    }
   ],
   "source": [
    "from sklearn.linear_model import LinearRegression\n",
    "from sklearn.metrics import classification_report\n",
    "from sklearn.metrics import r2_score, mean_squared_error\n",
    "\n",
    "regr = LinearRegression()\n",
    "model = regr.fit(X_train, y_train)\n",
    "y_pred = model.predict(X_test)\n",
    "\n",
    "print(model.coef_)\n",
    "print(model.feature_names_in_)\n",
    "#print(regr.score(y_test,y_pred))\n",
    "print(\"RMSE: {}\".format(np.sqrt(mean_squared_error((y_test),(y_pred)))))\n",
    "print(\"R2  : {}\".format(np.sqrt(r2_score((y_test),(y_pred)))))\n",
    "\n"
   ]
  },
  {
   "cell_type": "code",
   "execution_count": null,
   "id": "1ca47185-ddbd-4ec5-b17b-57d03ec2deed",
   "metadata": {},
   "outputs": [],
   "source": []
  },
  {
   "cell_type": "code",
   "execution_count": null,
   "id": "6418d048-ec24-4172-9582-67132dfe4c81",
   "metadata": {},
   "outputs": [],
   "source": []
  },
  {
   "cell_type": "code",
   "execution_count": null,
   "id": "18a511aa-571a-47ab-aa66-f865a90287c0",
   "metadata": {},
   "outputs": [],
   "source": []
  }
 ],
 "metadata": {
  "kernelspec": {
   "display_name": "Python 3 (ipykernel)",
   "language": "python",
   "name": "python3"
  },
  "language_info": {
   "codemirror_mode": {
    "name": "ipython",
    "version": 3
   },
   "file_extension": ".py",
   "mimetype": "text/x-python",
   "name": "python",
   "nbconvert_exporter": "python",
   "pygments_lexer": "ipython3",
   "version": "3.8.18"
  }
 },
 "nbformat": 4,
 "nbformat_minor": 5
}
